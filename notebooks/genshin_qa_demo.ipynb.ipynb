{
 "cells": [
  {
   "cell_type": "markdown",
   "id": "8025e387-5a89-427f-a250-07cf8aca8177",
   "metadata": {},
   "source": [
    "# Genshin Impact Lore Hybrid QA System with Knowledge Graph + RAG + BM25"
   ]
  },
  {
   "cell_type": "markdown",
   "id": "efaff7bc-597f-4e99-831d-d872866a933e",
   "metadata": {},
   "source": [
    "This notebook demonstrates a hybrid QA (Question Answering) system that combines:\n",
    "- Neo4j knowledge graph (structured relationships)\n",
    "- RAG (Retrieval-Augmented Generation) using Gemini Embeddings + Chroma\n",
    "- BM25 sparse retrieval using keyword matching\n",
    "\n",
    "All data is extracted from the [Genshin Impact Archon Quest Wiki](https://genshin-impact.fandom.com/wiki/Archon_Quest)\n"
   ]
  },
  {
   "cell_type": "markdown",
   "id": "3e706507-4cd7-44bc-8972-4bb92440864c",
   "metadata": {},
   "source": [
    "---\n",
    "\n",
    "### Technologies Used\n",
    "\n",
    "- **Gemini 1.5 Pro** – for rewriting, decomposing, expanding, summarizing\n",
    "- **LangChain** – for prompt templates, document handling, retrievers\n",
    "- **Neo4j** – stores the structured knowledge graph\n",
    "- **Chroma** – stores vector embeddings for narrative-based RAG\n",
    "- **BM25Retriever** – indexes full-text wiki content for keyword-based fallback search\n",
    "\n",
    "---\n",
    "\n",
    "### Example Use Case\n",
    "\n",
    "**Query**: `\"what's paimon's deal with zhongli?\"`\n",
    "\n",
    "**System Actions**:\n",
    "1. Rewrites the query for clarity\n",
    "2. Decomposes it into simpler sub-questions\n",
    "3. Expands those queries into 15–20 variations\n",
    "4. Retrieves relevant information from:\n",
    "   - KG (via Cypher query in Neo4j)\n",
    "   - RAG (semantic search over chunked narrative)\n",
    "   - BM25 (keyword-based match from raw text)\n",
    "5. Synthesizes the final story using Gemini in formal narrative style\n",
    "\n",
    "**Output**: A complete, grounded lore summary using only retrieved facts\n",
    "\n",
    "---"
   ]
  },
  {
   "cell_type": "markdown",
   "id": "950a2c53-7490-42ee-8ba8-57ef1c3c6124",
   "metadata": {},
   "source": [
    "## Step 0: Secure Environment Variables\n",
    "\n",
    "To securely handle sensitive data such as API keys or database connection strings, we use a `.env` file and the `dotenv` library. This approach ensures that credentials are not hardcoded into the codebase."
   ]
  },
  {
   "cell_type": "code",
   "execution_count": 1,
   "id": "8d022f2e-07cc-4b80-a425-bceb8e49ba23",
   "metadata": {},
   "outputs": [],
   "source": [
    "# 1️. Load Environment Variables\n",
    "from dotenv import load_dotenv\n",
    "import os\n",
    "import warnings\n",
    "warnings.filterwarnings(\"ignore\")\n",
    "\n",
    "load_dotenv()\n",
    "\n",
    "# Get credentials from .env\n",
    "API_KEY = os.getenv(\"GOOGLE_API_KEY\")\n",
    "NEO4J_URI = os.getenv(\"NEO4J_URI\")\n",
    "NEO4J_USER = os.getenv(\"NEO4J_USER\")\n",
    "NEO4J_PASSWORD = os.getenv(\"NEO4J_PASSWORD\")\n",
    "\n",
    "# Quick checks\n",
    "assert API_KEY, \"Missing GOOGLE_API_KEY!\"\n",
    "assert NEO4J_URI, \"Missing NEO4J_URI!\""
   ]
  },
  {
   "cell_type": "code",
   "execution_count": 3,
   "id": "04a44926-544d-4bc5-9744-c2b8abbcff4e",
   "metadata": {},
   "outputs": [],
   "source": [
    "import sys\n",
    "sys.path.append(\"src\")  \n",
    "#  匯入模組\n",
    "from data_extraction    import fetch_wiki_text, fetch_multiple_wiki_texts, fetch_act_urls, save_all_archon_quests_to_txt\n",
    "from triple_extraction  import generate_triples_batched\n",
    "from kg_builder         import build_graph, export_graphml, crawl_and_write_csv\n",
    "from rag_builder        import build_rag_vectorstore, GeminiEmbeddings\n",
    "from bm25_builder       import build_bm25_retriever_from_txt\n",
    "from qa_pipeline        import init_gemini_llm, build_kg_qa_chain, run_kg_qa, run_multi_source_qa, GeminiLLM\n",
    "from utils              import rewrite_query_for_search, decompose_query, expand_query_with_llm, pick_diverse_queries, classify_intent_llm"
   ]
  },
  {
   "cell_type": "markdown",
   "id": "cc4dc863-f70b-43b4-b8dd-d2cb7a851e29",
   "metadata": {},
   "source": [
    "## Step 1: Web Scraping & Data Extraction\n",
    "In this step, we begin by scraping textual content from the **Genshin Impact Archon Quest Wiki** using the `requests` and `BeautifulSoup` libraries.\n",
    "\n",
    "The goal is to extract narrative data from quest pages. These texts will later be used for generating:\n",
    "- Structured knowledge triples (e.g., subject–predicate–object)\n",
    "- Semantic document chunks for use in downstream Question Answering (QA) systems such as RAG or Knowledge Graph QA.\n",
    "\n",
    "We demonstrate this using a sample page from the wiki:\n",
    "\n",
    "📌 Example Page: [\"The Outlander Who Caught the Wind\"](https://genshin-impact.fandom.com/wiki/The_Outlander_Who_Caught_the_Wind)\n",
    "\n",
    "We then use a `fetch_wiki_text()` function (defined elsewhere) to retrieve and print the first 1000 characters of the scraped content for preview purposes.\n"
   ]
  },
  {
   "cell_type": "code",
   "execution_count": 10,
   "id": "73ee0404-914a-4936-bd4c-0a95a5b2e7c0",
   "metadata": {},
   "outputs": [
    {
     "name": "stdout",
     "output_type": "stream",
     "text": [
      "The Outlander Who Caught the WindMondstadt's Quest ActQuest TypeChapterArchonPrologueActIPreviousNextN/AFor a Tomorrow Without TearsRequirementsArchon QuestRequirement(s)Wanderer's TrailRewards100The Outlander Who Caught the Windis the first act in theProloguechapter of theArchon Quests.\n",
      "In conjunction with theArchon QuestWanderer's Trail, it serves as a tutorial level for movement and combat, and introduces some of the main characters.\n",
      "During their travels across the worlds, theTravelerand theirtwin siblingare confronted by anunknown entityas they were about to depart. In the ensuing battle, the unknown entity seals off the sibling, before doing the same to the Traveler, sealing their powers and putting both of them in Teyvat.\n",
      "The Traveler eventually wakes up after an undisclosed amount of time and proceeds to wander across Teyvat. The Traveler is aroundCape Oathwhen they fish outPaimonfrom the sea, thus saving her from drowning. Grateful for the rescue, Paimon becomes their travel co\n"
     ]
    }
   ],
   "source": [
    "# Example URL\n",
    "urls = [\n",
    "    \"https://genshin-impact.fandom.com/wiki/The_Outlander_Who_Caught_the_Wind\",\n",
    "]\n",
    "\n",
    "# Preview the extracted text\n",
    "text = fetch_wiki_text(urls[0])\n",
    "print(text[:1000])  # Print only first 1000 characters for readability\n"
   ]
  },
  {
   "cell_type": "markdown",
   "id": "2c207989-a643-4f13-942c-24b1fe8374b6",
   "metadata": {},
   "source": [
    "## Step 2: Build Knowledge Graph (Triples)\n",
    "\n",
    "In this step, we convert raw story paragraphs from the Genshin Impact Wiki into a structured **Knowledge Graph (KG)** using semantic triple extraction.\n",
    "\n",
    "## What are Knowledge Triples?\n",
    "Each triple represents a factual statement in the form of: (subject, relation, object)"
   ]
  },
  {
   "cell_type": "markdown",
   "id": "82ddf181-e54c-4bb5-94cb-f48b367dd2de",
   "metadata": {},
   "source": [
    "Examples:\n",
    "- `(Traveler, fishes, Paimon)`\n",
    "- `(Amber, is, Outrider of the Knights of Favonius)`\n",
    "- `(Stormterror, rampages, region)`\n",
    "\n",
    "These triples enable machine-readable representation of narrative elements such as:\n",
    "- Character relationships\n",
    "- Participation in events\n",
    "- Event locations\n",
    "- Title and act associations\n",
    "\n",
    "## Method\n",
    "We use the **Gemini API** to extract triples from the wiki text, based on a restricted schema that includes relations like:\n",
    "- `knows`\n",
    "- `from`\n",
    "- `participates_in`\n",
    "- `is`\n",
    "- `occurs_in`, etc.\n",
    "\n",
    "The triples serve as foundational building blocks for constructing a **Genshin Impact Knowledge Graph**, which we will later visualize.\n",
    "\n",
    "### Example Input Page:\n",
    "📌 [The Outlander Who Caught the Wind](https://genshin-impact.fandom.com/wiki/The_Outlander_Who_Caught_the_Wind)\n"
   ]
  },
  {
   "cell_type": "code",
   "execution_count": 20,
   "id": "b84b49d7-6444-4865-a218-b1a28ab6f916",
   "metadata": {
    "scrolled": true
   },
   "outputs": [
    {
     "name": "stdout",
     "output_type": "stream",
     "text": [
      "Splitting into 1 chunk(s)...\n",
      "✅ Total extracted triples: 20\n",
      "(Traveler, participates_in, The Outlander Who Caught the Wind)\n",
      "(The Outlander Who Caught the Wind, includes, Wanderer's Trail)\n",
      "(The Outlander Who Caught the Wind, plays_role, tutorial level)\n",
      "(Traveler, knows, Paimon)\n",
      "(Paimon, from, Teyvat)\n",
      "(Traveler, has, Anemo Statue of The Seven)\n",
      "(Starfell Lake, occurs_in, The Outlander Who Caught the Wind)\n",
      "(Traveler, knows, Amber)\n",
      "(Amber, member_of, Knights of Favonius)\n",
      "(Mondstadt, occurs_in, The Outlander Who Caught the Wind)\n",
      "(Traveler, has, Wind Glider)\n",
      "(Stormterror, occurs_in, The Outlander Who Caught the Wind)\n",
      "(Traveler, opposes, Stormterror)\n",
      "(Traveler, knows, Kaeya)\n",
      "(Kaeya, member_of, Knights of Favonius)\n",
      "(Traveler, knows, Jean)\n",
      "(Jean, member_of, Knights of Favonius)\n",
      "(Traveler, knows, Lisa)\n",
      "(Lisa, member_of, Knights of Favonius)\n",
      "(The Outlander Who Caught the Wind, occurs_in, Mondstadt)\n"
     ]
    }
   ],
   "source": [
    "from google import genai\n",
    "\n",
    "# Load your Gemini API key from the environment\n",
    "client = genai.Client(api_key=API_KEY)\n",
    "\n",
    "# Example usage\n",
    "urls = [\n",
    "    \"https://genshin-impact.fandom.com/wiki/The_Outlander_Who_Caught_the_Wind\"\n",
    "]\n",
    "full_text = fetch_multiple_wiki_texts(urls)\n",
    "triples = generate_triples_batched(full_text, client)\n",
    "\n",
    "for t in triples:\n",
    "    print(f\"({t.subject}, {t.relation}, {t.object})\")\n"
   ]
  },
  {
   "cell_type": "markdown",
   "id": "ecc97a7d-f129-4c72-bd35-fcdbafa03ef5",
   "metadata": {},
   "source": [
    "## Step 3: Visualize & Explore the Knowledge Graph\n",
    "\n",
    "In this step, we explore the structured knowledge extracted from Genshin Impact lore by converting semantic triples into a **directed graph** using `NetworkX`.\n",
    "\n",
    "Each triple in the form of `(subject, relation, object)` becomes a **labeled edge** in the graph, connecting nodes (entities) with relational context.\n",
    "\n",
    "---\n",
    "\n",
    "### 3.1 Visualize the Graph\n",
    "\n",
    "We use the `spring_layout` algorithm from NetworkX to visualize the graph in a way that reflects the underlying structure."
   ]
  },
  {
   "cell_type": "code",
   "execution_count": 26,
   "id": "2b43c1f3-13d6-41c1-9cbd-ede2d3d94847",
   "metadata": {},
   "outputs": [
    {
     "name": "stdout",
     "output_type": "stream",
     "text": [
      "Exported genshin_story_kg.graphml\n"
     ]
    },
    {
     "data": {
      "image/png": "[encoded data removed]",
      "text/plain": [
       "<Figure size 1200x800 with 1 Axes>"
      ]
     },
     "metadata": {},
     "output_type": "display_data"
    }
   ],
   "source": [
    "import networkx as nx\n",
    "import matplotlib.pyplot as plt\n",
    "\n",
    "G = build_graph(triples)\n",
    "export_graphml(G, \"genshin_story_kg.graphml\")\n",
    "\n",
    "\n",
    "# Plot the graph\n",
    "plt.figure(figsize=(12, 8))\n",
    "pos = nx.spring_layout(G, k=0.5, seed=42)\n",
    "nx.draw(G, pos, with_labels=True, node_size=1200, font_size=10, arrowsize=15)\n",
    "\n",
    "# Show relation labels on edges\n",
    "edge_labels = nx.get_edge_attributes(G, \"relation\")\n",
    "nx.draw_networkx_edge_labels(G, pos, edge_labels=edge_labels, font_color=\"red\")\n",
    "\n",
    "plt.title(\"Genshin Impact Knowledge Graph\")\n",
    "plt.axis(\"off\")\n",
    "plt.show()"
   ]
  },
  {
   "cell_type": "markdown",
   "id": "907326e2-9298-4dbe-8e19-fa2615dd977c",
   "metadata": {},
   "source": [
    "This graph helps us:\n",
    "- Visualize the relationships between characters, events, and locations\n",
    "- Understand the story flow through graph structure\n",
    "- Debug or analyze extracted data quickly"
   ]
  },
  {
   "cell_type": "markdown",
   "id": "4f5269f8-2d2d-4d82-a058-4056b820f2d2",
   "metadata": {},
   "source": [
    "### 3.2 Load & Query the Graph\n",
    "\n",
    "The exported .graphml file allows for future analysis using NetworkX or external tools such as Gephi."
   ]
  },
  {
   "cell_type": "code",
   "execution_count": 29,
   "id": "05a7ee16-8e78-4efd-8860-1b7e5e0b7ab0",
   "metadata": {},
   "outputs": [
    {
     "name": "stdout",
     "output_type": "stream",
     "text": [
      "🧠 Nodes: 16\n",
      "🔗 Edges: 20\n"
     ]
    }
   ],
   "source": [
    "# Load from file\n",
    "G = nx.read_graphml(\"genshin_story_kg.graphml\")\n",
    "\n",
    "# Basic stats\n",
    "print(f\"🧠 Nodes: {len(G.nodes)}\")\n",
    "print(f\"🔗 Edges: {len(G.edges)}\")\n"
   ]
  },
  {
   "cell_type": "markdown",
   "id": "3088f81f-2a59-4a56-965b-b700a5506304",
   "metadata": {},
   "source": [
    "This enables you to inspect the graph even outside of the triple extraction session."
   ]
  },
  {
   "cell_type": "markdown",
   "id": "ddbb4712-8c9b-45f0-a122-8c123e890d8c",
   "metadata": {},
   "source": [
    "#### 3.3 Example Query: Find Relations Involving \"Paimon\"\n",
    "\n",
    "We now query the graph to find all relations where \"Paimon\" appears as either the subject or object."
   ]
  },
  {
   "cell_type": "code",
   "execution_count": 60,
   "id": "2e151508-ee51-49a2-a2b0-664acf7795ce",
   "metadata": {},
   "outputs": [
    {
     "name": "stdout",
     "output_type": "stream",
     "text": [
      "Traveler --[fishes]--> Paimon\n",
      "Paimon --[becomes]--> travel companion\n",
      "Paimon --[becomes]--> guide\n",
      "Paimon --[suggests]--> contact The Seven\n",
      "Traveler and Paimon --[pursue]--> green dragon\n",
      "Traveler and Paimon --[assist]--> Amber\n",
      "Amber --[escorts]--> Traveler and Paimon to Mondstadt\n"
     ]
    }
   ],
   "source": [
    "paimon_relations = []\n",
    "for u, v, data in G.edges(data=True):\n",
    "    if 'paimon' in u.lower() or 'paimon' in v.lower():\n",
    "        rel = data.get('relation', 'RELATED_TO')\n",
    "        paimon_relations.append((u, rel, v))\n",
    "\n",
    "# Display results\n",
    "for head, rel, tail in paimon_relations:\n",
    "    print(f\"{head} --[{rel}]--> {tail}\")\n"
   ]
  },
  {
   "cell_type": "markdown",
   "id": "21d47bab-6e3e-4667-a398-2215fde5b499",
   "metadata": {},
   "source": [
    "#### Summary\n",
    "This process enables:\n",
    "- Visualizing lore relationships from wiki text as a graph\n",
    "- Exporting the graph to standard formats (e.g., .graphml)\n",
    "- Querying character connections, such as finding which events \"Paimon\" participates in"
   ]
  },
  {
   "cell_type": "markdown",
   "id": "6b6b6eac-24c0-4d2a-a233-f898c0d6266f",
   "metadata": {},
   "source": [
    "## Step 4: Knowledge Graph Construction & CSV Export"
   ]
  },
  {
   "cell_type": "markdown",
   "id": "b220ba37-4f70-4a0d-aba4-f958ca12bf3d",
   "metadata": {},
   "source": [
    "In this step, we extract structured triples from Genshin Impact's *Archon Quest* wiki pages using Gemini API, and export them as CSV files for graph database use (e.g., Neo4j)."
   ]
  },
  {
   "cell_type": "markdown",
   "id": "b0ec1851-820b-4b01-80b5-a72fdac04a9f",
   "metadata": {},
   "source": [
    "### Workflow\n",
    "1. Fetch all Archon Quest URLs from the Genshin Wiki.\n",
    "2. Extract story content from each page.\n",
    "3. Generate (subject, relation, object) triples via Gemini.\n",
    "4. Save:\n",
    "   - `all_acts_nodes.csv` → unique entities (nodes)\n",
    "   - `all_acts_edges.csv` → relationships (edges)\n",
    "\n",
    "### Sample Triple Output\n",
    "| Subject     | Relation         | Object         |\n",
    "| ----------- | ---------------- | -------------- |\n",
    "| Traveler    | participates_in  | Prologue Act I |\n",
    "| Stormterror | occurs_in        | Mondstadt      |\n",
    "| Venti       | knows            | Traveler       |\n",
    "\n",
    "These files are ready to be imported into Neo4j for semantic retrieval."
   ]
  },
  {
   "cell_type": "code",
   "execution_count": 41,
   "id": "239ab3fe-7500-429e-a72b-5f5f3c04917e",
   "metadata": {
    "scrolled": true
   },
   "outputs": [
    {
     "name": "stdout",
     "output_type": "stream",
     "text": [
      "🔍 Processing: https://genshin-impact.fandom.com/wiki/The_Outlander_Who_Caught_the_Wind\n",
      "Splitting into 1 chunk(s)...\n",
      "✅ Total extracted triples: 28\n",
      "🔍 Processing: https://genshin-impact.fandom.com/wiki/For_a_Tomorrow_Without_Tears\n",
      "Splitting into 1 chunk(s)...\n",
      "✅ Total extracted triples: 0\n",
      "🔍 Processing: https://genshin-impact.fandom.com/wiki/Adventure_Rank\n",
      "Splitting into 1 chunk(s)...\n",
      "✅ Total extracted triples: 46\n",
      "🔍 Processing: https://genshin-impact.fandom.com/wiki/Song_of_the_Dragon_and_Freedom\n",
      "Splitting into 2 chunk(s)...\n",
      "✅ Total extracted triples: 43\n",
      "🔍 Processing: https://genshin-impact.fandom.com/wiki/Of_the_Land_Amidst_Monoliths\n",
      "Splitting into 2 chunk(s)...\n",
      "✅ Total extracted triples: 6\n",
      "🔍 Processing: https://genshin-impact.fandom.com/wiki/Farewell,_Archaic_Lord\n",
      "Splitting into 2 chunk(s)...\n",
      "✅ Total extracted triples: 58\n",
      "🔍 Processing: https://genshin-impact.fandom.com/wiki/A_New_Star_Approaches\n",
      "Splitting into 2 chunk(s)...\n",
      "✅ Total extracted triples: 22\n",
      "🔍 Processing: https://genshin-impact.fandom.com/wiki/Bough_Keeper:_Dainsleif\n",
      "Splitting into 1 chunk(s)...\n",
      "✅ Total extracted triples: 15\n",
      "🔍 Processing: https://genshin-impact.fandom.com/wiki/We_Will_Be_Reunited\n",
      "Splitting into 2 chunk(s)...\n",
      "✅ Total extracted triples: 48\n",
      "🔍 Processing: https://genshin-impact.fandom.com/wiki/Lupus_Minor_Chapter\n",
      "Splitting into 1 chunk(s)...\n",
      "✅ Total extracted triples: 26\n",
      "🔍 Processing: https://genshin-impact.fandom.com/wiki/The_Meaning_of_Lupical\n",
      "Splitting into 1 chunk(s)...\n",
      "✅ Total extracted triples: 23\n",
      "🔍 Processing: https://genshin-impact.fandom.com/wiki/Autumn_Winds,_Scarlet_Leaves\n",
      "Splitting into 2 chunk(s)...\n",
      "✅ Total extracted triples: 51\n",
      "🔍 Processing: https://genshin-impact.fandom.com/wiki/The_Immovable_God_and_the_Eternal_Euthymia\n",
      "Splitting into 3 chunk(s)...\n",
      "✅ Total extracted triples: 111\n",
      "🔍 Processing: https://genshin-impact.fandom.com/wiki/Stillness,_the_Sublimation_of_Shadow\n",
      "Splitting into 1 chunk(s)...\n",
      "✅ Total extracted triples: 32\n",
      "🔍 Processing: https://genshin-impact.fandom.com/wiki/Grus_Nivis_Chapter\n",
      "Splitting into 2 chunk(s)...\n",
      "✅ Total extracted triples: 47\n",
      "🔍 Processing: https://genshin-impact.fandom.com/wiki/The_Whispers_of_the_Crane_and_the_White_Rabbit\n",
      "Splitting into 2 chunk(s)...\n",
      "✅ Total extracted triples: 42\n",
      "🔍 Processing: https://genshin-impact.fandom.com/wiki/Carassius_Auratus_Chapter\n",
      "Splitting into 3 chunk(s)...\n",
      "✅ Total extracted triples: 81\n",
      "🔍 Processing: https://genshin-impact.fandom.com/wiki/Dreamlike_Timelessness\n",
      "Splitting into 2 chunk(s)...\n",
      "✅ Total extracted triples: 49\n",
      "🔍 Processing: https://genshin-impact.fandom.com/wiki/Omnipresence_Over_Mortals\n",
      "Splitting into 3 chunk(s)...\n",
      "✅ Total extracted triples: 77\n",
      "🔍 Processing: https://genshin-impact.fandom.com/wiki/Requiem_of_the_Echoing_Depths\n",
      "Splitting into 1 chunk(s)...\n",
      "✅ Total extracted triples: 28\n",
      "🔍 Processing: https://genshin-impact.fandom.com/wiki/Through_Mists_of_Smoke_and_Forests_Dark\n",
      "Splitting into 3 chunk(s)...\n",
      "✅ Total extracted triples: 91\n",
      "🔍 Processing: https://genshin-impact.fandom.com/wiki/The_Morn_a_Thousand_Roses_Brings\n",
      "Splitting into 3 chunk(s)...\n",
      "✅ Total extracted triples: 94\n",
      "🔍 Processing: https://genshin-impact.fandom.com/wiki/Dreams,_Emptiness,_Deception\n",
      "Splitting into 2 chunk(s)...\n",
      "✅ Total extracted triples: 78\n",
      "🔍 Processing: https://genshin-impact.fandom.com/wiki/King_Deshret_and_the_Three_Magi\n",
      "Splitting into 2 chunk(s)...\n",
      "✅ Total extracted triples: 62\n",
      "🔍 Processing: https://genshin-impact.fandom.com/wiki/Akasha_Pulses,_the_Kalpa_Flame_Rises\n",
      "Splitting into 5 chunk(s)...\n",
      "✅ Total extracted triples: 117\n",
      "🔍 Processing: https://genshin-impact.fandom.com/wiki/Caribert\n",
      "Splitting into 3 chunk(s)...\n",
      "✅ Total extracted triples: 61\n",
      "🔍 Processing: https://genshin-impact.fandom.com/wiki/Prelude_of_Blancheur_and_Noirceur\n",
      "Splitting into 4 chunk(s)...\n",
      "✅ Total extracted triples: 117\n",
      "🔍 Processing: https://genshin-impact.fandom.com/wiki/As_Light_Rain_Falls_Without_Reason\n",
      "Splitting into 4 chunk(s)...\n",
      "✅ Total extracted triples: 121\n",
      "🔍 Processing: https://genshin-impact.fandom.com/wiki/To_the_Stars_Shining_in_the_Depths\n",
      "Splitting into 2 chunk(s)...\n",
      "✅ Total extracted triples: 73\n",
      "🔍 Processing: https://genshin-impact.fandom.com/wiki/Cataclysm%27s_Quickening\n",
      "Splitting into 3 chunk(s)...\n",
      "✅ Total extracted triples: 103\n",
      "🔍 Processing: https://genshin-impact.fandom.com/wiki/Masquerade_of_the_Guilty\n",
      "Splitting into 5 chunk(s)...\n",
      "✅ Total extracted triples: 105\n",
      "🔍 Processing: https://genshin-impact.fandom.com/wiki/Bedtime_Story\n",
      "Splitting into 2 chunk(s)...\n",
      "✅ Total extracted triples: 43\n",
      "🔍 Processing: https://genshin-impact.fandom.com/wiki/Flowers_Resplendent_on_the_Sun-Scorched_Sojourn\n",
      "Splitting into 3 chunk(s)...\n",
      "✅ Total extracted triples: 96\n",
      "🔍 Processing: https://genshin-impact.fandom.com/wiki/Quick_Start\n",
      "Splitting into 1 chunk(s)...\n",
      "✅ Total extracted triples: 19\n",
      "🔍 Processing: https://genshin-impact.fandom.com/wiki/Chapter_I\n",
      "Splitting into 5 chunk(s)...\n",
      "✅ Total extracted triples: 58\n",
      "🔍 Processing: https://genshin-impact.fandom.com/wiki/Black_Stone_Under_a_White_Stone\n",
      "Splitting into 3 chunk(s)...\n",
      "✅ Total extracted triples: 91\n",
      "🔍 Processing: https://genshin-impact.fandom.com/wiki/Beyond_the_Smoke_and_Mirrors\n",
      "Splitting into 4 chunk(s)...\n",
      "✅ Total extracted triples: 67\n",
      "🔍 Processing: https://genshin-impact.fandom.com/wiki/The_Rainbow_Destined_to_Burn\n",
      "Splitting into 4 chunk(s)...\n",
      "✅ Total extracted triples: 129\n",
      "🔍 Processing: https://genshin-impact.fandom.com/wiki/All_Fires_Fuel_the_Flame\n",
      "Splitting into 2 chunk(s)...\n",
      "✅ Total extracted triples: 43\n",
      "🔍 Processing: https://genshin-impact.fandom.com/wiki/Incandescent_Ode_of_Resurrection\n",
      "Splitting into 4 chunk(s)...\n",
      "✅ Total extracted triples: 136\n",
      "🔍 Processing: https://genshin-impact.fandom.com/wiki/Everwinter_Without_Mercy\n",
      "Splitting into 1 chunk(s)...\n",
      "✅ Total extracted triples: 5\n",
      "🔍 Processing: https://genshin-impact.fandom.com/wiki/The_Dream_Yet_to_Be_Dreamed\n",
      "Splitting into 1 chunk(s)...\n",
      "✅ Total extracted triples: 6\n",
      "✅ Done! Saved to all_acts_nodes.csv & all_acts_edges.csv\n"
     ]
    }
   ],
   "source": [
    "# Main pipeline: Extract, generate triples, and save as CSV \n",
    "urls = fetch_act_urls()\n",
    "\n",
    "crawl_and_write_csv(urls, \"all_acts_nodes.csv\", \"all_acts_edges.csv\")"
   ]
  },
  {
   "cell_type": "markdown",
   "id": "4721fe7c-70a7-4786-918a-dd0d2e475313",
   "metadata": {},
   "source": [
    "## Step 5: Import CSV into Neo4j (Manual Upload)\n",
    "\n",
    "Manually upload the generated knowledge graph CSV files into **Neo4j** to create a retrievable semantic graph for downstream question-answering and visualization tasks.\n",
    "\n",
    "---\n",
    "\n",
    "#### Files to Upload  \n",
    "After completing **Step 4**, you should have the following two files:\n",
    "\n",
    "- `all_acts_nodes.csv` – contains all **entities** (e.g., characters, items, events, locations)  \n",
    "- `all_acts_edges.csv` – contains all **semantic relationships** (triples) between those entities\n",
    "\n",
    "---\n",
    "\n",
    "#### Upload Instructions  \n",
    "\n",
    "1. Open **Neo4j Desktop** or go to the **Neo4j Web Interface** (e.g., `http://localhost:7474`)\n",
    "2. Navigate to your project’s **Import** folder:\n",
    "   - Click `Manage` → `Open Folder` → `Import`\n",
    "3. Copy or move the following files into that `Import` folder:\n",
    "   - `all_acts_nodes.csv`\n",
    "   - `all_acts_edges.csv`\n",
    "\n",
    "Once uploaded, you're ready to run Cypher commands to import the data into Neo4j as nodes and relationships.\n",
    "\n",
    "---\n",
    "\n",
    "#### 📺 Highly Recommended Tutorial  \n",
    "If you're unfamiliar with how to import CSV files into Neo4j, this video was extremely helpful and easy to follow:\n",
    "\n",
    " **How to Upload a CSV file to a GRAPH database for FREE (Neo4j AuraDB)**  \n",
    " https://www.youtube.com/watch?v=lLx1BHdZY-o  \n",
    " Special thanks to the creator — this tutorial helped me a lot!\n",
    "\n",
    "\n",
    " "
   ]
  },
  {
   "cell_type": "markdown",
   "id": "2fb70228-2731-4536-a195-a609d84b95c9",
   "metadata": {},
   "source": [
    "## Step 6: Question Answering with LangChain + Neo4j (GraphCypherQAChain)\n",
    "Use a **LangChain-powered GraphQA pipeline** to perform semantic question answering over the knowledge graph stored in Neo4j. This allows us to transform natural language questions into **Cypher queries**, fetch structured results, and generate human-readable answers using an LLM.\n",
    "\n",
    "---\n",
    "\n",
    "#### What This Step Does\n",
    "\n",
    "| Component           | Description                                                                 |\n",
    "|---------------------|-----------------------------------------------------------------------------|\n",
    "|  **LLM (Gemini)** | Interprets both questions and structured query outputs for natural answers  |\n",
    "|  **Neo4j Graph**  | Connects to the hosted Neo4j database containing our structured triples     |\n",
    "|  **Prompt Templates** | Defines how to translate natural language into Cypher, and how to summarize query results |\n",
    "|  **GraphCypherQAChain** | Combines LLM + Neo4j into an end-to-end QA chain                         |\n",
    "\n",
    "---\n",
    "\n",
    "#### Example Use Case\n",
    "\n",
    "**Input question:**  \n",
    "> _\"Who knows Traveler?\"_\n",
    "\n",
    "**System output includes:**  \n",
    "- The generated **Cypher query**\n",
    "- The **raw results** from Neo4j\n",
    "- The **structured answer** summarized by Gemini\n",
    "\n",
    "---\n",
    "\n",
    "####  Prerequisites\n",
    "\n",
    "Before using this step:\n",
    "- You must have successfully uploaded your CSV data into Neo4j (Step 5).\n",
    "- Your Neo4j database must be accessible via the correct `url`, `username`, and `password`.\n",
    "- The `relation` type should be used for all edges, and actual meanings must be stored in `relation` property.\n",
    "\n",
    "---\n",
    "\n",
    "This setup enables powerful semantic exploration of your Genshin knowledge graph via natural language!\n"
   ]
  },
  {
   "cell_type": "code",
   "execution_count": 43,
   "id": "33620c37-62f7-4768-be5d-157912277451",
   "metadata": {},
   "outputs": [
    {
     "name": "stdout",
     "output_type": "stream",
     "text": [
      "\n",
      "\n",
      "\u001b[1m> Entering new GraphCypherQAChain chain...\u001b[0m\n",
      "Generated Cypher:\n",
      "\u001b[32;1m\u001b[1;3mcypher\n",
      "MATCH (a:Entity)-[r:relation]->(b:Entity {id:\"Traveler\"})\n",
      "WHERE r.relation =~ \"(?i).*know.*\"\n",
      "RETURN r.relation AS relation_type, a.id AS node\n",
      "\u001b[0m\n",
      "Full Context:\n",
      "\u001b[32;1m\u001b[1;3m[{'relation_type': 'knows', 'node': 'green dragon'}, {'relation_type': 'knows', 'node': 'stranger'}, {'relation_type': 'knows', 'node': 'Amber'}, {'relation_type': 'knows', 'node': 'Katheryne'}, {'relation_type': 'knows', 'node': 'Barbara'}]\u001b[0m\n",
      "\n",
      "\u001b[1m> Finished chain.\u001b[0m\n",
      "\n",
      "=== Cypher Query ===\n",
      "who knows Traveler?\n",
      "\n",
      "=== Raw Records ===\n",
      "```json\n",
      "{\n",
      "  \"knows\": [\n",
      "    \"green dragon\",\n",
      "    \"stranger\",\n",
      "    \"Amber\",\n",
      "    \"Katheryne\",\n",
      "    \"Barbara\"\n",
      "  ]\n",
      "}\n",
      "```\n",
      "\n",
      "=== Summary ===\n",
      "```json\n",
      "{\n",
      "  \"knows\": [\n",
      "    \"green dragon\",\n",
      "    \"stranger\",\n",
      "    \"Amber\",\n",
      "    \"Katheryne\",\n",
      "    \"Barbara\"\n",
      "  ]\n",
      "}\n",
      "```\n"
     ]
    }
   ],
   "source": [
    "# Run QA\n",
    "result = run_kg_qa(\n",
    "    query=\"who knows Traveler?\",\n",
    "    entity_id=\"Traveler\",\n",
    "    api_key=API_KEY,\n",
    "    neo4j_uri=NEO4J_URI,\n",
    "    neo4j_user=NEO4J_USER,\n",
    "    neo4j_password=NEO4J_PASSWORD\n",
    ")\n",
    "\n",
    "# Output\n",
    "print(\"\\n=== Cypher Query ===\")\n",
    "print(result[\"query\"])\n",
    "\n",
    "print(\"\\n=== Raw Records ===\")\n",
    "print(result[\"result\"])\n",
    "\n",
    "print(\"\\n=== Summary ===\")\n",
    "print(result[\"result\"])\n"
   ]
  },
  {
   "cell_type": "markdown",
   "id": "2ae58f76-3b4f-444f-99c5-473be58e8331",
   "metadata": {},
   "source": [
    "## Step 7: Create RAG Vector Store from Genshin Wiki (Archon Quest)\n",
    "\n",
    "Transform all **Archon Quest** content from the Genshin Wiki into chunked documents, embed them using the **Gemini API**, and store them in a **Chroma** vector database for use in RAG (Retrieval-Augmented Generation).\n",
    "\n",
    "---\n",
    "\n",
    "### Workflow Overview\n",
    "\n",
    "| Stage                        | Description                                                                 |\n",
    "|-----------------------------|-----------------------------------------------------------------------------|\n",
    "| **URL Collection**        | Scrape all Archon Quest page links from the Genshin Wiki.                  |\n",
    "| **Text Extraction**       | Parse paragraphs and their associated headings (`<h2>`, `<h3>`) as context.|\n",
    "| **Chunking**              | Split long texts into overlapping segments while preserving section titles.|\n",
    "| **Embedding (Gemini)**    | Use Google Gemini's embedding API to vectorize each document chunk.        |\n",
    "| **Vector Store (Chroma)** | Store all embedded chunks and metadata in a local Chroma vector DB.        |\n",
    "\n",
    "\n"
   ]
  },
  {
   "cell_type": "code",
   "execution_count": 47,
   "id": "121eaa48-bb0e-4bdd-be6b-e53c7f8dd330",
   "metadata": {},
   "outputs": [
    {
     "name": "stdout",
     "output_type": "stream",
     "text": [
      "✅ Total unique document chunks: 381\n",
      "✅ Vector store saved to ./genshin_chroma\n"
     ]
    }
   ],
   "source": [
    "vectorstore = build_rag_vectorstore()"
   ]
  },
  {
   "cell_type": "markdown",
   "id": "ca678b75-d0bc-4cdd-b9e4-a7f6c38e4154",
   "metadata": {},
   "source": [
    "#### Query the Vector Store (Quick Test)\n",
    "\n",
    "This step verifies that our Chroma-based vector store is working correctly by checking the number of documents it contains and performing a basic semantic query.\n"
   ]
  },
  {
   "cell_type": "code",
   "execution_count": 49,
   "id": "9ffb88b8-9791-4dc8-a6dc-5e217752f709",
   "metadata": {},
   "outputs": [
    {
     "name": "stdout",
     "output_type": "stream",
     "text": [
      "\n",
      "📝 Top relevant chunks:\n",
      "- Source: https://genshin-impact.fandom.com/wiki/Akasha_Pulses,_the_Kalpa_Flame_Rises｜chunk 0\n",
      "  Content: ### Summary[]\n",
      "Heading into the Sanctuary, the Traveler and Paimon meet Nahida in person for the first time. Nahida apologizes for putting them through situations she caused, but they decline the apology as she wasn't at fault. Now knowing the full extent of the damage, Nahida reverts the Akasha to be used by herself only and revoke all of the sages' access, make them pay for their crimes, and also to stop the false god. She advises them to prepare themselves....\n",
      "\n",
      "- Source: https://genshin-impact.fandom.com/wiki/Dreams,_Emptiness,_Deception｜chunk 1\n",
      "  Content: Nahida takes them to the marketplace where she talks withNabiya,AkimandQishanas Katheryne, while the Traveler learns how they speak and act. The following day, as Setaria prepares to shop on her regular day off, Nahida tells the Traveler that because she still has trouble with human behavior, they'll be the ones to do the job. She uses her powers to act as a bridge, allowing the Traveler to remotely possesses them through theirAkasha Terminaland passes off the impression that they're believers o...\n",
      "\n",
      "- Source: https://genshin-impact.fandom.com/wiki/Dreams,_Emptiness,_Deception｜chunk 0\n",
      "  Content: ### Summary[]\n",
      "At the arranged spot, Nahida asks theTravelerfor their suggestions, all of which she declines due to the immense risks or not being possible to enact. She instead reveals that they should find someone who has ties with them but hasn't fully dedicated their cause. The Traveler suggestsAlhaitham, but Nahida had already decided onSetaria,Azar's subordinate. Setaria actually hails from the desert and was proclaimed as the greatest genius amongst the desert-dwellers, like the brightest ...\n",
      "\n"
     ]
    }
   ],
   "source": [
    "retriever = vectorstore.as_retriever(search_kwargs={\"k\": 3})\n",
    "query = \"What is the relationship between the Traveler and Nahida in Sumeru?\"\n",
    "results = retriever.get_relevant_documents(query)\n",
    "\n",
    "print(\"\\n📝 Top relevant chunks:\")\n",
    "\n",
    "for doc in results:\n",
    "    print(f\"- Source: {doc.metadata['source']}｜chunk {doc.metadata['chunk_index']}\")\n",
    "    print(f\"  Content: {doc.page_content[:500]}...\\n\")\n"
   ]
  },
  {
   "cell_type": "markdown",
   "id": "28410e4d-9e15-46f1-9196-56ab7a8e31be",
   "metadata": {},
   "source": [
    "##  Step 8: Build BM25 Retriever for Local Keyword-Based Search\n",
    "\n",
    "Use the classic **BM25 ranking algorithm** to retrieve relevant chunks from the Archon Quest text based on keyword overlap.  \n",
    "This provides a lightweight alternative to dense vector retrieval for text-based search.\n",
    "\n",
    "---\n",
    "\n",
    "###  What This Step Does\n",
    "\n",
    "| Stage              | Description                                                                 |\n",
    "| ------------------ | --------------------------------------------------------------------------- |\n",
    "|  **Text Loading** | Reads raw story text from `archon_quests.txt`                              |\n",
    "|  **Chunking**     | Splits the full text into overlapping chunks to preserve context           |\n",
    "|  **Documents**    | Wraps each chunk into a LangChain `Document` format for indexing            |\n",
    "|  **BM25 Indexing**| Uses `BM25Retriever` to enable lexical keyword search on the document chunks |\n",
    "\n",
    "---\n"
   ]
  },
  {
   "cell_type": "markdown",
   "id": "e419c302-c55c-4c71-814f-2cac147c48e2",
   "metadata": {},
   "source": [
    "#### Crawl Archon Quest Pages & Save as Plain Text\n",
    "This step scrapes all Archon Quest story pages from the Genshin Impact Wiki and stores the raw paragraph text into a `.txt` file."
   ]
  },
  {
   "cell_type": "code",
   "execution_count": 55,
   "id": "842ea60f-6bbb-48fa-a57a-59e941563deb",
   "metadata": {
    "scrolled": true
   },
   "outputs": [
    {
     "name": "stdout",
     "output_type": "stream",
     "text": [
      "Found 42 Archon Quest URLs\n",
      " (1/42) Fetching: https://genshin-impact.fandom.com/wiki/The_Outlander_Who_Caught_the_Wind\n",
      " (2/42) Fetching: https://genshin-impact.fandom.com/wiki/For_a_Tomorrow_Without_Tears\n",
      " (3/42) Fetching: https://genshin-impact.fandom.com/wiki/Adventure_Rank\n",
      " (4/42) Fetching: https://genshin-impact.fandom.com/wiki/Song_of_the_Dragon_and_Freedom\n",
      " (5/42) Fetching: https://genshin-impact.fandom.com/wiki/Of_the_Land_Amidst_Monoliths\n",
      " (6/42) Fetching: https://genshin-impact.fandom.com/wiki/Farewell,_Archaic_Lord\n",
      " (7/42) Fetching: https://genshin-impact.fandom.com/wiki/A_New_Star_Approaches\n",
      " (8/42) Fetching: https://genshin-impact.fandom.com/wiki/Bough_Keeper:_Dainsleif\n",
      " (9/42) Fetching: https://genshin-impact.fandom.com/wiki/We_Will_Be_Reunited\n",
      " (10/42) Fetching: https://genshin-impact.fandom.com/wiki/Lupus_Minor_Chapter\n",
      " (11/42) Fetching: https://genshin-impact.fandom.com/wiki/The_Meaning_of_Lupical\n",
      " (12/42) Fetching: https://genshin-impact.fandom.com/wiki/Autumn_Winds,_Scarlet_Leaves\n",
      " (13/42) Fetching: https://genshin-impact.fandom.com/wiki/The_Immovable_God_and_the_Eternal_Euthymia\n",
      " (14/42) Fetching: https://genshin-impact.fandom.com/wiki/Stillness,_the_Sublimation_of_Shadow\n",
      " (15/42) Fetching: https://genshin-impact.fandom.com/wiki/Grus_Nivis_Chapter\n",
      " (16/42) Fetching: https://genshin-impact.fandom.com/wiki/The_Whispers_of_the_Crane_and_the_White_Rabbit\n",
      " (17/42) Fetching: https://genshin-impact.fandom.com/wiki/Carassius_Auratus_Chapter\n",
      " (18/42) Fetching: https://genshin-impact.fandom.com/wiki/Dreamlike_Timelessness\n",
      " (19/42) Fetching: https://genshin-impact.fandom.com/wiki/Omnipresence_Over_Mortals\n",
      " (20/42) Fetching: https://genshin-impact.fandom.com/wiki/Requiem_of_the_Echoing_Depths\n",
      " (21/42) Fetching: https://genshin-impact.fandom.com/wiki/Through_Mists_of_Smoke_and_Forests_Dark\n",
      " (22/42) Fetching: https://genshin-impact.fandom.com/wiki/The_Morn_a_Thousand_Roses_Brings\n",
      " (23/42) Fetching: https://genshin-impact.fandom.com/wiki/Dreams,_Emptiness,_Deception\n",
      " (24/42) Fetching: https://genshin-impact.fandom.com/wiki/King_Deshret_and_the_Three_Magi\n",
      " (25/42) Fetching: https://genshin-impact.fandom.com/wiki/Akasha_Pulses,_the_Kalpa_Flame_Rises\n",
      " (26/42) Fetching: https://genshin-impact.fandom.com/wiki/Caribert\n",
      " (27/42) Fetching: https://genshin-impact.fandom.com/wiki/Prelude_of_Blancheur_and_Noirceur\n",
      " (28/42) Fetching: https://genshin-impact.fandom.com/wiki/As_Light_Rain_Falls_Without_Reason\n",
      " (29/42) Fetching: https://genshin-impact.fandom.com/wiki/To_the_Stars_Shining_in_the_Depths\n",
      " (30/42) Fetching: https://genshin-impact.fandom.com/wiki/Cataclysm%27s_Quickening\n",
      " (31/42) Fetching: https://genshin-impact.fandom.com/wiki/Masquerade_of_the_Guilty\n",
      " (32/42) Fetching: https://genshin-impact.fandom.com/wiki/Bedtime_Story\n",
      " (33/42) Fetching: https://genshin-impact.fandom.com/wiki/Flowers_Resplendent_on_the_Sun-Scorched_Sojourn\n",
      " (34/42) Fetching: https://genshin-impact.fandom.com/wiki/Quick_Start\n",
      " (35/42) Fetching: https://genshin-impact.fandom.com/wiki/Chapter_I\n",
      " (36/42) Fetching: https://genshin-impact.fandom.com/wiki/Black_Stone_Under_a_White_Stone\n",
      " (37/42) Fetching: https://genshin-impact.fandom.com/wiki/Beyond_the_Smoke_and_Mirrors\n",
      " (38/42) Fetching: https://genshin-impact.fandom.com/wiki/The_Rainbow_Destined_to_Burn\n",
      " (39/42) Fetching: https://genshin-impact.fandom.com/wiki/All_Fires_Fuel_the_Flame\n",
      " (40/42) Fetching: https://genshin-impact.fandom.com/wiki/Incandescent_Ode_of_Resurrection\n",
      " (41/42) Fetching: https://genshin-impact.fandom.com/wiki/Everwinter_Without_Mercy\n",
      " (42/42) Fetching: https://genshin-impact.fandom.com/wiki/The_Dream_Yet_to_Be_Dreamed\n",
      "✅ Completed. Saved to `archon_quests.txt`\n",
      "✅ Pages fetched successfully: 42\n",
      "❌ Pages failed: 0\n"
     ]
    }
   ],
   "source": [
    "# Fetch all Archon Quest page URLs from the Genshin Impact Wiki\n",
    "save_all_archon_quests_to_txt(\"archon_quests.txt\")"
   ]
  },
  {
   "cell_type": "code",
   "execution_count": 59,
   "id": "43b853c4-10f3-4954-b4d5-5c5091115c61",
   "metadata": {},
   "outputs": [
    {
     "name": "stdout",
     "output_type": "stream",
     "text": [
      "📝 Top matching chunks:\n",
      "\n",
      "🔹 chunk_0\n",
      "=== https://genshin-impact.fandom.com/wiki/The_Outlander_Who_Caught_the_Wind ===\n",
      "The Outlander Who Caught the WindMondstadt's Quest ActQuest TypeChapterArchonPrologueActIPreviousNextN/AFor a Tomorrow Without TearsRequirementsArchon QuestRequirement(s)Wanderer's TrailRewards100The Outlander Who Caugh...\n",
      "\n",
      "🔹 chunk_7\n",
      "After dealing with the temples, Paimon suggests that they return to the knights' headquarters to see what they should do next.\n",
      "16Charactersappear in this Act:\n",
      "There are3Achievementsobtainable fromThe Outlander Who Caught the Wind:...\n",
      "\n",
      "🔹 chunk_8\n",
      "=== https://genshin-impact.fandom.com/wiki/For_a_Tomorrow_Without_Tears ===\n",
      "For a Tomorrow Without TearsMondstadt's Quest ActQuest TypeChapterArchonPrologueActIIPreviousNextThe Outlander Who Caught the WindSong of the Dragon and FreedomRequirementsAdventure RankRequired10Rewards100For a Tomorrow Wit...\n",
      "\n"
     ]
    }
   ],
   "source": [
    "# BM25 Retriever Setup for Keyword-Based Search \n",
    "\n",
    "bm25 = build_bm25_retriever_from_txt(\"archon_quests.txt\", k=3)\n",
    "\n",
    "query = \"Who is Paimon?\"\n",
    "results = bm25.get_relevant_documents(query)\n",
    "\n",
    "print(\"📝 Top matching chunks:\\n\")\n",
    "for doc in results:\n",
    "    print(f\"🔹 {doc.metadata['source']}\")\n",
    "    print(doc.page_content[:300] + \"...\\n\")\n"
   ]
  },
  {
   "cell_type": "markdown",
   "id": "5bf48498-12e2-40c8-95ac-755e57a16af8",
   "metadata": {},
   "source": [
    "## Step 9: Multi-Source Question Answering with KG + RAG + BM25  \n",
    "Answer user questions about *Genshin Impact* lore by combining results from:\n",
    "- **Knowledge Graph (KG)** via Cypher QA\n",
    "- **Semantic Retrieval (RAG)** using Gemini embeddings + Chroma\n",
    "- **Lexical Retrieval (BM25)** using keyword-based search\n",
    "\n",
    "This hybrid approach ensures broad coverage and rich narrative context, even for complex or ambiguous queries.\n",
    "\n",
    "---\n",
    "\n",
    "### What This Step Does\n",
    "\n",
    "| Stage                  | Description                                                                 |\n",
    "|------------------------|-----------------------------------------------------------------------------|\n",
    "| Query Rewriting      | Reformulates informal or vague questions into clearer search-oriented input |\n",
    "| Intent Classification | Detects the type of question: character, event, quest, location, or general |\n",
    "| Query Decomposition  | Breaks complex queries into simpler sub-questions                            |\n",
    "| Query Expansion       | Paraphrases and augments queries to improve retrieval diversity              |\n",
    "| Multi-Source Retrieval | Queries **KG**, **RAG**, and **BM25** independently for relevant chunks     |\n",
    "| Final Answer Generation | Uses Gemini to summarize results into a cohesive, lore-accurate answer    |\n",
    "\n",
    "\n",
    "\n"
   ]
  },
  {
   "cell_type": "code",
   "execution_count": 69,
   "id": "9e17b96a-bb03-4f4f-ba4f-c81d3d26f9da",
   "metadata": {},
   "outputs": [
    {
     "name": "stdout",
     "output_type": "stream",
     "text": [
      "📥 Original Query: what's paimon's deal with zhongli?\n",
      "📝 Rewritten Query:\n",
      " Rewritten: \"Relationship between Paimon and Zhongli in Genshin Impact\" \n",
      "\n",
      "Or, more specific options depending on what the user is *really* looking for:\n",
      "\n",
      "* \"Paimon and Zhongli interactions in Genshin Impact\"\n",
      "* \"Paimon's opinion of Zhongli in Genshin Impact\"\n",
      "* \"Zhongli's opinion of Paimon in Genshin Impact\"\n",
      "* \"Lore connections between Paimon and Zhongli in Genshin Impact\"\n",
      "\n",
      "Adding \"Genshin Impact\" clarifies the context, which is crucial if the search engine isn't already specialized for that game. The more specific options help narrow down the results to what the user might truly be seeking.\n",
      "🔍 Classified Intent:\n",
      " character_relationship\n",
      "🧩 Sub-Queries:\n",
      "  - What is Paimon's opinion of Zhongli in Genshin Impact?\n",
      "  - What is Zhongli's opinion of Paimon in Genshin Impact?\n",
      "  - Are there any notable interactions between Paimon and Zhongli in Genshin Impact?\n",
      "  - Are there any lore connections between Paimon and Zhongli in Genshin Impact?\n",
      "\n",
      "🧠 Final Answer:\n",
      " The Traveler and Paimon's interactions with Zhongli began with the arrival of Rex Lapis for the Rite of Descension in Liyue.  Informed of this event by Venti, the pair rushed to Liyue to meet the Geo Archon.  Their first encounter with Zhongli, however, was through Childe, at a restaurant.  Childe introduced Zhongli as a consultant at the Wangsheng Funeral Parlor.  Zhongli explained his intention to provide Rex Lapis a proper farewell, citing the adepti's increasing detachment from humanity.  This role allowed him to take the Traveler to the Exuvia.  Despite some suspicion of Childe's motives, Zhongli proceeded with funeral preparations, starting with the acquisition of Noctilucous Jade, the mora for which was supplied by Childe.\n",
      "\n",
      "Later, Zhongli requested the Traveler obtain a Cleansing Bell from Madame Ping, claiming to have other business to attend to.  Madame Ping, revealed to be an adepti, housed the bell within her teapot, a domain the Traveler entered to retrieve it.  Upon their return, Zhongli required Everlasting Incense from Bubu Pharmacy. There, they encountered Qiqi, who, unaware of Rex Lapis's passing, tasked them with hunting a cocogoat using the Guizhong Ballista to obtain the incense. After repairing the ballista with parts from a nearby supply post and defeating some Treasure Hoarders, they discovered the absence of any cocogoat, as the ballista would have detected it.\n",
      "\n",
      "Zhongli also required various perfumes made from flowers.  He directed the Traveler to Bolai for Silk Flowers.  Lacking mora, Zhongli nonetheless received the flowers for free after Bolai learned of their purpose.  Bolai, however, lacked the knowledge to create perfume. Following a chain of inquiries around the city, the Traveler finally crafted the perfumes with Ying'er's assistance. They subsequently presented the completed perfumes to the Statue of The Seven outside the harbor.\n",
      "\n",
      "To further the Rite of Parting preparations, Zhongli asked the Traveler to gather Glaze Lilies in Dihua Marsh.  During their search, they encountered Ganyu, who was revealed to be an adepti, having watched over Liyue Harbor for 3,700 years. After listening to her thoughts about Rex Lapis's passing, they returned to a Liyue Harbor in chaos.  The Traveler later helped gather workers for Zhongli, negotiating with Tic, Tac, and Toe after receiving mora from Childe, who allowed them to keep the remainder.\n",
      "\n",
      "The culmination of these events was the Rite of Parting.  However, Zhongli's role in the proceedings was far more intricate than initially appeared.  Following the Rite, he revealed himself to be the Geo Archon, Rex Lapis, at Northland Bank, where he was speaking with Signora and Childe.  He admitted to orchestrating the entire series of events, including his own supposed assassination, as a test of Liyue's ability to function without him.  In exchange for an undisclosed goal, he had forged a contract with the Tsaritsa and relinquished his Gnosis to Signora.\n",
      "\n",
      "Throughout these events, Paimon's relationship with Zhongli was primarily defined by her involvement with the Traveler.  Paimon frequently assisted the Traveler in fulfilling Zhongli's requests, often offering suggestions and expressing concern. While Paimon actively participated in these interactions, the narrative excerpts do not highlight any specific, unique relationship between Paimon and Zhongli outside of their shared involvement in the events surrounding Rex Lapis's supposed death and the Rite of Parting.  Paimon’s role is consistent with her general relationship with the Traveler, as his companion and advisor.  Therefore, it is not possible to describe a distinct relationship between Paimon and Zhongli beyond their involvement in these shared experiences based on the provided materials.\n"
     ]
    }
   ],
   "source": [
    "query = \"what's paimon's deal with zhongli?\"\n",
    "entity_id = \"Paimon\"\n",
    "\n",
    "# Initialize the custom Gemini LLM wrapper (compatible with LangChain)\n",
    "llm = GeminiLLM()\n",
    "\n",
    "# Build the Knowledge Graph QA chain using LangChain's GraphCypherQAChain\n",
    "chain = build_kg_qa_chain(\n",
    "    uri=NEO4J_URI,          # Neo4j database URI\n",
    "    user=NEO4J_USER,        # Neo4j username\n",
    "    pwd=NEO4J_PASSWORD,     # Neo4j password\n",
    "    gemini_llm=llm,         # Your Gemini-based language model\n",
    "    top_k=5                 # Limit the number of results from Cypher queries\n",
    ")\n",
    "\n",
    "bm25 = build_bm25_retriever_from_txt(\"archon_quests.txt\")\n",
    "embedding = GeminiEmbeddings()\n",
    "\n",
    "answer = run_multi_source_qa(\n",
    "    query=query,\n",
    "    entity_id=entity_id,\n",
    "    chain=chain,\n",
    "    vectorstore=vectorstore,\n",
    "    bm25_retriever=bm25,\n",
    "    embedding_model=embedding\n",
    ")\n",
    "\n",
    "print(\"\\n🧠 Final Answer:\\n\", answer)\n"
   ]
  },
  {
   "cell_type": "code",
   "execution_count": null,
   "id": "0d5f5604-08ef-493e-b577-f2b1b435b857",
   "metadata": {},
   "outputs": [],
   "source": []
  },
  {
   "cell_type": "code",
   "execution_count": null,
   "id": "aebc6de7-2de5-4cd7-a302-48c7bec9012f",
   "metadata": {},
   "outputs": [],
   "source": []
  }
 ],
 "metadata": {
  "kernelspec": {
   "display_name": "Python [conda env:base] *",
   "language": "python",
   "name": "conda-base-py"
  },
  "language_info": {
   "codemirror_mode": {
    "name": "ipython",
    "version": 3
   },
   "file_extension": ".py",
   "mimetype": "text/x-python",
   "name": "python",
   "nbconvert_exporter": "python",
   "pygments_lexer": "ipython3",
   "version": "3.12.3"
  }
 },
 "nbformat": 4,
 "nbformat_minor": 5
}
