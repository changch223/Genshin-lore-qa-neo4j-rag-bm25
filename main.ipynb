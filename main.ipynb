{
 "cells": [
  {
   "cell_type": "code",
   "execution_count": 3,
   "id": "0a9e74be-dbaa-4a93-a491-fb525733482a",
   "metadata": {},
   "outputs": [],
   "source": [
    "# 单元格 1：环境配置"
   ]
  },
  {
   "cell_type": "code",
   "execution_count": 29,
   "id": "1e735740-77dc-4c8c-a906-5f30815852d6",
   "metadata": {},
   "outputs": [],
   "source": [
    "# 环境配置：.env 中存放 GOOGLE_API_KEY / NEO4J_URI / NEO4J_USER / NEO4J_PASSWORD\n",
    "from dotenv import load_dotenv\n",
    "import os, warnings\n",
    "warnings.filterwarnings(\"ignore\")\n",
    "\n",
    "load_dotenv()\n",
    "API_KEY       = os.getenv(\"GOOGLE_API_KEY\")\n",
    "NEO4J_URI     = os.getenv(\"NEO4J_URI\")\n",
    "NEO4J_USER    = os.getenv(\"NEO4J_USER\")\n",
    "NEO4J_PASSWORD= os.getenv(\"NEO4J_PASSWORD\")\n",
    "assert API_KEY and NEO4J_URI, \"请检查 .env 配置！\"\n",
    "\n",
    "#import google.generativeai as genai\n",
    "#genai.configure(api_key=API_KEY)\n",
    "\n",
    "from google import genai\n",
    "# Load your Gemini API key from the environment\n",
    "client = genai.Client(api_key=API_KEY)"
   ]
  },
  {
   "cell_type": "code",
   "execution_count": 31,
   "id": "92d1f8d3-f65b-4f9b-b165-a1825edf750b",
   "metadata": {},
   "outputs": [],
   "source": [
    "# 单元格 2：统一导入"
   ]
  },
  {
   "cell_type": "code",
   "execution_count": 33,
   "id": "2c8333ff-5fb9-44c4-9d80-5987b65f00b3",
   "metadata": {},
   "outputs": [],
   "source": [
    "import sys\n",
    "sys.path.append(\"scripts\")  # 加入 scripts 資料夾到 Python 路徑\n",
    "\n",
    "# 从五个模块里导入所有函数/类\n",
    "from data_extraction       import fetch_act_urls, fetch_page_text_with_headings\n",
    "from knowledge_graph       import generate_triples_batched, visualize_graph, export_graphml, load_graphml, query_graph\n",
    "from rag_retriever         import GeminiEmbeddings, build_vector_store, rag_similarity_search\n",
    "from bm25_retriever        import split_text_into_chunks, build_bm25_retriever\n",
    "from qa_pipeline           import (\n",
    "    rewrite_query_for_search,\n",
    "    classify_intent_llm,\n",
    "    decompose_query,\n",
    "    expand_query_with_llm,\n",
    "    pick_diverse_queries,\n",
    "    generate_answer_from_sections\n",
    ")\n",
    "\n",
    "# 其他全局依赖\n",
    "import networkx as nx\n"
   ]
  },
  {
   "cell_type": "code",
   "execution_count": 11,
   "id": "4e24946e-1295-4396-98ed-f27232e4851d",
   "metadata": {},
   "outputs": [],
   "source": [
    "#单元格 3：数据抓取 & 文档准备"
   ]
  },
  {
   "cell_type": "code",
   "execution_count": 15,
   "id": "cffe8a8f-b022-4043-ba2d-b0448f8dc4a6",
   "metadata": {},
   "outputs": [
    {
     "name": "stdout",
     "output_type": "stream",
     "text": [
      "找到 42 个任务页面.\n",
      "一共 330 个段落块.\n"
     ]
    }
   ],
   "source": [
    "# 1) 抓取所有 Archon Quest 页面 URL\n",
    "urls = fetch_act_urls()\n",
    "print(f\"找到 {len(urls)} 个任务页面.\")\n",
    "\n",
    "# 2) 从每个页面提取带节标题的段落，组装成 Document 列表\n",
    "docs = []\n",
    "for u in urls:\n",
    "    docs.extend(fetch_page_text_with_headings(u))\n",
    "print(f\"一共 {len(docs)} 个段落块.\")\n"
   ]
  },
  {
   "cell_type": "code",
   "execution_count": 16,
   "id": "bcc9823b-001a-404a-af50-dd3db2125dd2",
   "metadata": {},
   "outputs": [],
   "source": [
    "#单元格 4：构建 & 可视化知识图谱"
   ]
  },
  {
   "cell_type": "code",
   "execution_count": 17,
   "id": "11cb3fd4-d9b3-4e53-9f2e-7585a109581f",
   "metadata": {},
   "outputs": [
    {
     "name": "stdout",
     "output_type": "stream",
     "text": [
      "Splitting into 34 chunk(s)...\n",
      "Processing chunk 1/34\n",
      "Error in chunk 1: name 'client' is not defined\n",
      "Processing chunk 2/34\n",
      "Error in chunk 2: name 'client' is not defined\n",
      "Processing chunk 3/34\n",
      "Error in chunk 3: name 'client' is not defined\n",
      "Processing chunk 4/34\n",
      "Error in chunk 4: name 'client' is not defined\n",
      "Processing chunk 5/34\n",
      "Error in chunk 5: name 'client' is not defined\n",
      "Processing chunk 6/34\n",
      "Error in chunk 6: name 'client' is not defined\n",
      "Processing chunk 7/34\n",
      "Error in chunk 7: name 'client' is not defined\n",
      "Processing chunk 8/34\n",
      "Error in chunk 8: name 'client' is not defined\n",
      "Processing chunk 9/34\n",
      "Error in chunk 9: name 'client' is not defined\n",
      "Processing chunk 10/34\n",
      "Error in chunk 10: name 'client' is not defined\n",
      "Processing chunk 11/34\n",
      "Error in chunk 11: name 'client' is not defined\n",
      "Processing chunk 12/34\n",
      "Error in chunk 12: name 'client' is not defined\n",
      "Processing chunk 13/34\n",
      "Error in chunk 13: name 'client' is not defined\n",
      "Processing chunk 14/34\n",
      "Error in chunk 14: name 'client' is not defined\n",
      "Processing chunk 15/34\n",
      "Error in chunk 15: name 'client' is not defined\n",
      "Processing chunk 16/34\n",
      "Error in chunk 16: name 'client' is not defined\n",
      "Processing chunk 17/34\n",
      "Error in chunk 17: name 'client' is not defined\n",
      "Processing chunk 18/34\n",
      "Error in chunk 18: name 'client' is not defined\n",
      "Processing chunk 19/34\n",
      "Error in chunk 19: name 'client' is not defined\n",
      "Processing chunk 20/34\n",
      "Error in chunk 20: name 'client' is not defined\n",
      "Processing chunk 21/34\n",
      "Error in chunk 21: name 'client' is not defined\n",
      "Processing chunk 22/34\n",
      "Error in chunk 22: name 'client' is not defined\n",
      "Processing chunk 23/34\n",
      "Error in chunk 23: name 'client' is not defined\n",
      "Processing chunk 24/34\n",
      "Error in chunk 24: name 'client' is not defined\n",
      "Processing chunk 25/34\n",
      "Error in chunk 25: name 'client' is not defined\n",
      "Processing chunk 26/34\n",
      "Error in chunk 26: name 'client' is not defined\n",
      "Processing chunk 27/34\n",
      "Error in chunk 27: name 'client' is not defined\n",
      "Processing chunk 28/34\n",
      "Error in chunk 28: name 'client' is not defined\n",
      "Processing chunk 29/34\n",
      "Error in chunk 29: name 'client' is not defined\n",
      "Processing chunk 30/34\n",
      "Error in chunk 30: name 'client' is not defined\n",
      "Processing chunk 31/34\n",
      "Error in chunk 31: name 'client' is not defined\n",
      "Processing chunk 32/34\n",
      "Error in chunk 32: name 'client' is not defined\n",
      "Processing chunk 33/34\n",
      "Error in chunk 33: name 'client' is not defined\n",
      "Processing chunk 34/34\n",
      "Error in chunk 34: name 'client' is not defined\n",
      "✅ Total extracted triples: 0\n"
     ]
    },
    {
     "ename": "NameError",
     "evalue": "name 'clean_triples' is not defined",
     "output_type": "error",
     "traceback": [
      "\u001b[1;31m---------------------------------------------------------------------------\u001b[0m",
      "\u001b[1;31mNameError\u001b[0m                                 Traceback (most recent call last)",
      "Cell \u001b[1;32mIn[17], line 6\u001b[0m\n\u001b[0;32m      3\u001b[0m triples   \u001b[38;5;241m=\u001b[39m generate_triples_batched(full_text)\n\u001b[0;32m      5\u001b[0m \u001b[38;5;66;03m# NetworkX 可视化\u001b[39;00m\n\u001b[1;32m----> 6\u001b[0m visualize_graph(triples)\n\u001b[0;32m      8\u001b[0m \u001b[38;5;66;03m# 导出/加载示例\u001b[39;00m\n\u001b[0;32m      9\u001b[0m export_graphml(nx\u001b[38;5;241m.\u001b[39mDiGraph(), \u001b[38;5;124m\"\u001b[39m\u001b[38;5;124mgenshin_graph.graphml\u001b[39m\u001b[38;5;124m\"\u001b[39m)     \u001b[38;5;66;03m# 或者直接用 generate_triples_batched 的结果构造 graph 再导出\u001b[39;00m\n",
      "File \u001b[1;32m~\\Genshin_QA_AI_Chatbot\\genshin-kg-rag-bm25-qa\\scripts\\knowledge_graph.py:105\u001b[0m, in \u001b[0;36mvisualize_graph\u001b[1;34m(triples)\u001b[0m\n\u001b[0;32m    103\u001b[0m \u001b[38;5;66;03m# Build directed graph\u001b[39;00m\n\u001b[0;32m    104\u001b[0m G \u001b[38;5;241m=\u001b[39m nx\u001b[38;5;241m.\u001b[39mDiGraph()\n\u001b[1;32m--> 105\u001b[0m \u001b[38;5;28;01mfor\u001b[39;00m t \u001b[38;5;129;01min\u001b[39;00m clean_triples:\n\u001b[0;32m    106\u001b[0m     G\u001b[38;5;241m.\u001b[39madd_edge(t\u001b[38;5;241m.\u001b[39msubject, t\u001b[38;5;241m.\u001b[39mobject, relation\u001b[38;5;241m=\u001b[39mt\u001b[38;5;241m.\u001b[39mrelation)\n\u001b[0;32m    108\u001b[0m \u001b[38;5;66;03m# Export to GraphML for future use\u001b[39;00m\n",
      "\u001b[1;31mNameError\u001b[0m: name 'clean_triples' is not defined"
     ]
    }
   ],
   "source": [
    "# 把所有文本拼一起，生成三元组\n",
    "full_text = \"\\n\\n\".join(d.page_content for d in docs)\n",
    "triples   = generate_triples_batched(full_text)\n",
    "\n",
    "# NetworkX 可视化\n",
    "visualize_graph(triples)\n",
    "\n",
    "# 导出/加载示例\n",
    "export_graphml(nx.DiGraph(), \"genshin_graph.graphml\")     # 或者直接用 generate_triples_batched 的结果构造 graph 再导出\n",
    "G = load_graphml(\"genshin_graph.graphml\")\n",
    "\n",
    "# 查询示例\n",
    "print(query_graph(G, \"Paimon\"))\n"
   ]
  },
  {
   "cell_type": "code",
   "execution_count": 19,
   "id": "a4c214f0-ae8c-4da9-b115-98151e862897",
   "metadata": {},
   "outputs": [],
   "source": [
    "#单元格 5：构建 & 测试 RAG 向量库"
   ]
  },
  {
   "cell_type": "code",
   "execution_count": 35,
   "id": "c6359bc4-7ea9-47c6-ab01-6073eb1a14ab",
   "metadata": {},
   "outputs": [
    {
     "ename": "NameError",
     "evalue": "name 'client' is not defined",
     "output_type": "error",
     "traceback": [
      "\u001b[1;31m---------------------------------------------------------------------------\u001b[0m",
      "\u001b[1;31mNameError\u001b[0m                                 Traceback (most recent call last)",
      "Cell \u001b[1;32mIn[35], line 2\u001b[0m\n\u001b[0;32m      1\u001b[0m \u001b[38;5;66;03m# 1) 用五个模块输出的 docs 来 build vector store\u001b[39;00m\n\u001b[1;32m----> 2\u001b[0m vectorstore \u001b[38;5;241m=\u001b[39m build_vector_store(docs, persist_directory\u001b[38;5;241m=\u001b[39m\u001b[38;5;124m\"\u001b[39m\u001b[38;5;124m./genshin_chroma\u001b[39m\u001b[38;5;124m\"\u001b[39m)\n\u001b[0;32m      4\u001b[0m \u001b[38;5;66;03m# 2) 测试一次相似度检索\u001b[39;00m\n\u001b[0;32m      5\u001b[0m results \u001b[38;5;241m=\u001b[39m rag_similarity_search(vectorstore, \u001b[38;5;124m\"\u001b[39m\u001b[38;5;124mPaimon 和 Zhongli 的关系\u001b[39m\u001b[38;5;124m\"\u001b[39m, k\u001b[38;5;241m=\u001b[39m\u001b[38;5;241m3\u001b[39m)\n",
      "File \u001b[1;32m~\\Genshin_QA_AI_Chatbot\\genshin-kg-rag-bm25-qa\\scripts\\rag_retriever.py:46\u001b[0m, in \u001b[0;36mbuild_vector_store\u001b[1;34m(docs, persist_directory)\u001b[0m\n\u001b[0;32m     45\u001b[0m \u001b[38;5;28;01mdef\u001b[39;00m \u001b[38;5;21mbuild_vector_store\u001b[39m(docs: List[Document], persist_directory: \u001b[38;5;28mstr\u001b[39m) \u001b[38;5;241m-\u001b[39m\u001b[38;5;241m>\u001b[39m Chroma:\n\u001b[1;32m---> 46\u001b[0m     vs \u001b[38;5;241m=\u001b[39m Chroma\u001b[38;5;241m.\u001b[39mfrom_documents(documents\u001b[38;5;241m=\u001b[39mdocs,\n\u001b[0;32m     47\u001b[0m                                embedding\u001b[38;5;241m=\u001b[39mGeminiEmbeddings(),\n\u001b[0;32m     48\u001b[0m                                persist_directory\u001b[38;5;241m=\u001b[39mpersist_directory)\n\u001b[0;32m     49\u001b[0m     vs\u001b[38;5;241m.\u001b[39mpersist()\n\u001b[0;32m     50\u001b[0m     \u001b[38;5;28;01mreturn\u001b[39;00m vs\n",
      "File \u001b[1;32m~\\anaconda3\\Lib\\site-packages\\langchain_community\\vectorstores\\chroma.py:887\u001b[0m, in \u001b[0;36mChroma.from_documents\u001b[1;34m(cls, documents, embedding, ids, collection_name, persist_directory, client_settings, client, collection_metadata, **kwargs)\u001b[0m\n\u001b[0;32m    885\u001b[0m texts \u001b[38;5;241m=\u001b[39m [doc\u001b[38;5;241m.\u001b[39mpage_content \u001b[38;5;28;01mfor\u001b[39;00m doc \u001b[38;5;129;01min\u001b[39;00m documents]\n\u001b[0;32m    886\u001b[0m metadatas \u001b[38;5;241m=\u001b[39m [doc\u001b[38;5;241m.\u001b[39mmetadata \u001b[38;5;28;01mfor\u001b[39;00m doc \u001b[38;5;129;01min\u001b[39;00m documents]\n\u001b[1;32m--> 887\u001b[0m \u001b[38;5;28;01mreturn\u001b[39;00m \u001b[38;5;28mcls\u001b[39m\u001b[38;5;241m.\u001b[39mfrom_texts(\n\u001b[0;32m    888\u001b[0m     texts\u001b[38;5;241m=\u001b[39mtexts,\n\u001b[0;32m    889\u001b[0m     embedding\u001b[38;5;241m=\u001b[39membedding,\n\u001b[0;32m    890\u001b[0m     metadatas\u001b[38;5;241m=\u001b[39mmetadatas,\n\u001b[0;32m    891\u001b[0m     ids\u001b[38;5;241m=\u001b[39mids,\n\u001b[0;32m    892\u001b[0m     collection_name\u001b[38;5;241m=\u001b[39mcollection_name,\n\u001b[0;32m    893\u001b[0m     persist_directory\u001b[38;5;241m=\u001b[39mpersist_directory,\n\u001b[0;32m    894\u001b[0m     client_settings\u001b[38;5;241m=\u001b[39mclient_settings,\n\u001b[0;32m    895\u001b[0m     client\u001b[38;5;241m=\u001b[39mclient,\n\u001b[0;32m    896\u001b[0m     collection_metadata\u001b[38;5;241m=\u001b[39mcollection_metadata,\n\u001b[0;32m    897\u001b[0m     \u001b[38;5;241m*\u001b[39m\u001b[38;5;241m*\u001b[39mkwargs,\n\u001b[0;32m    898\u001b[0m )\n",
      "File \u001b[1;32m~\\anaconda3\\Lib\\site-packages\\langchain_community\\vectorstores\\chroma.py:843\u001b[0m, in \u001b[0;36mChroma.from_texts\u001b[1;34m(cls, texts, embedding, metadatas, ids, collection_name, persist_directory, client_settings, client, collection_metadata, **kwargs)\u001b[0m\n\u001b[0;32m    835\u001b[0m     \u001b[38;5;28;01mfrom\u001b[39;00m \u001b[38;5;21;01mchromadb\u001b[39;00m\u001b[38;5;21;01m.\u001b[39;00m\u001b[38;5;21;01mutils\u001b[39;00m\u001b[38;5;21;01m.\u001b[39;00m\u001b[38;5;21;01mbatch_utils\u001b[39;00m \u001b[38;5;28;01mimport\u001b[39;00m create_batches\n\u001b[0;32m    837\u001b[0m     \u001b[38;5;28;01mfor\u001b[39;00m batch \u001b[38;5;129;01min\u001b[39;00m create_batches(\n\u001b[0;32m    838\u001b[0m         api\u001b[38;5;241m=\u001b[39mchroma_collection\u001b[38;5;241m.\u001b[39m_client,\n\u001b[0;32m    839\u001b[0m         ids\u001b[38;5;241m=\u001b[39mids,\n\u001b[0;32m    840\u001b[0m         metadatas\u001b[38;5;241m=\u001b[39mmetadatas,\n\u001b[0;32m    841\u001b[0m         documents\u001b[38;5;241m=\u001b[39mtexts,\n\u001b[0;32m    842\u001b[0m     ):\n\u001b[1;32m--> 843\u001b[0m         chroma_collection\u001b[38;5;241m.\u001b[39madd_texts(\n\u001b[0;32m    844\u001b[0m             texts\u001b[38;5;241m=\u001b[39mbatch[\u001b[38;5;241m3\u001b[39m] \u001b[38;5;28;01mif\u001b[39;00m batch[\u001b[38;5;241m3\u001b[39m] \u001b[38;5;28;01melse\u001b[39;00m [],\n\u001b[0;32m    845\u001b[0m             metadatas\u001b[38;5;241m=\u001b[39mbatch[\u001b[38;5;241m2\u001b[39m] \u001b[38;5;28;01mif\u001b[39;00m batch[\u001b[38;5;241m2\u001b[39m] \u001b[38;5;28;01melse\u001b[39;00m \u001b[38;5;28;01mNone\u001b[39;00m,\n\u001b[0;32m    846\u001b[0m             ids\u001b[38;5;241m=\u001b[39mbatch[\u001b[38;5;241m0\u001b[39m],\n\u001b[0;32m    847\u001b[0m         )\n\u001b[0;32m    848\u001b[0m \u001b[38;5;28;01melse\u001b[39;00m:\n\u001b[0;32m    849\u001b[0m     chroma_collection\u001b[38;5;241m.\u001b[39madd_texts(texts\u001b[38;5;241m=\u001b[39mtexts, metadatas\u001b[38;5;241m=\u001b[39mmetadatas, ids\u001b[38;5;241m=\u001b[39mids)\n",
      "File \u001b[1;32m~\\anaconda3\\Lib\\site-packages\\langchain_community\\vectorstores\\chroma.py:277\u001b[0m, in \u001b[0;36mChroma.add_texts\u001b[1;34m(self, texts, metadatas, ids, **kwargs)\u001b[0m\n\u001b[0;32m    275\u001b[0m texts \u001b[38;5;241m=\u001b[39m \u001b[38;5;28mlist\u001b[39m(texts)\n\u001b[0;32m    276\u001b[0m \u001b[38;5;28;01mif\u001b[39;00m \u001b[38;5;28mself\u001b[39m\u001b[38;5;241m.\u001b[39m_embedding_function \u001b[38;5;129;01mis\u001b[39;00m \u001b[38;5;129;01mnot\u001b[39;00m \u001b[38;5;28;01mNone\u001b[39;00m:\n\u001b[1;32m--> 277\u001b[0m     embeddings \u001b[38;5;241m=\u001b[39m \u001b[38;5;28mself\u001b[39m\u001b[38;5;241m.\u001b[39m_embedding_function\u001b[38;5;241m.\u001b[39membed_documents(texts)\n\u001b[0;32m    278\u001b[0m \u001b[38;5;28;01mif\u001b[39;00m metadatas:\n\u001b[0;32m    279\u001b[0m     \u001b[38;5;66;03m# fill metadatas with empty dicts if somebody\u001b[39;00m\n\u001b[0;32m    280\u001b[0m     \u001b[38;5;66;03m# did not specify metadata for all texts\u001b[39;00m\n\u001b[0;32m    281\u001b[0m     length_diff \u001b[38;5;241m=\u001b[39m \u001b[38;5;28mlen\u001b[39m(texts) \u001b[38;5;241m-\u001b[39m \u001b[38;5;28mlen\u001b[39m(metadatas)\n",
      "File \u001b[1;32m~\\Genshin_QA_AI_Chatbot\\genshin-kg-rag-bm25-qa\\scripts\\rag_retriever.py:21\u001b[0m, in \u001b[0;36mGeminiEmbeddings.embed_documents\u001b[1;34m(self, texts)\u001b[0m\n\u001b[0;32m     19\u001b[0m \u001b[38;5;28;01mfor\u001b[39;00m i \u001b[38;5;129;01min\u001b[39;00m \u001b[38;5;28mrange\u001b[39m(\u001b[38;5;241m0\u001b[39m, \u001b[38;5;28mlen\u001b[39m(texts), batch_size):\n\u001b[0;32m     20\u001b[0m     batch \u001b[38;5;241m=\u001b[39m texts[i : i \u001b[38;5;241m+\u001b[39m batch_size]\n\u001b[1;32m---> 21\u001b[0m     resp \u001b[38;5;241m=\u001b[39m client\u001b[38;5;241m.\u001b[39mmodels\u001b[38;5;241m.\u001b[39membed_content(\n\u001b[0;32m     22\u001b[0m         model\u001b[38;5;241m=\u001b[39mEMBED_MODEL,\n\u001b[0;32m     23\u001b[0m         contents\u001b[38;5;241m=\u001b[39mbatch,\n\u001b[0;32m     24\u001b[0m         config\u001b[38;5;241m=\u001b[39mtypes\u001b[38;5;241m.\u001b[39mEmbedContentConfig(\n\u001b[0;32m     25\u001b[0m             task_type\u001b[38;5;241m=\u001b[39m\u001b[38;5;124m\"\u001b[39m\u001b[38;5;124mRETRIEVAL_DOCUMENT\u001b[39m\u001b[38;5;124m\"\u001b[39m,\n\u001b[0;32m     26\u001b[0m             title\u001b[38;5;241m=\u001b[39m\u001b[38;5;124m\"\u001b[39m\u001b[38;5;124m; \u001b[39m\u001b[38;5;124m\"\u001b[39m\u001b[38;5;241m.\u001b[39mjoin([t[:\u001b[38;5;241m50\u001b[39m] \u001b[38;5;28;01mfor\u001b[39;00m t \u001b[38;5;129;01min\u001b[39;00m batch])\n\u001b[0;32m     27\u001b[0m         )\n\u001b[0;32m     28\u001b[0m     )\n\u001b[0;32m     29\u001b[0m     all_embs\u001b[38;5;241m.\u001b[39mextend(e\u001b[38;5;241m.\u001b[39mvalues \u001b[38;5;28;01mfor\u001b[39;00m e \u001b[38;5;129;01min\u001b[39;00m resp\u001b[38;5;241m.\u001b[39membeddings)\n\u001b[0;32m     30\u001b[0m \u001b[38;5;28;01mreturn\u001b[39;00m all_embs\n",
      "\u001b[1;31mNameError\u001b[0m: name 'client' is not defined"
     ]
    }
   ],
   "source": [
    "# 1) 用五个模块输出的 docs 来 build vector store\n",
    "vectorstore = build_vector_store(docs, persist_directory=\"./genshin_chroma\")\n",
    "\n",
    "# 2) 测试一次相似度检索\n",
    "results = rag_similarity_search(vectorstore, \"Paimon 和 Zhongli 的关系\", k=3)\n",
    "for doc in results:\n",
    "    print(doc.metadata[\"source\"], \"→\", doc.page_content[:200])\n"
   ]
  },
  {
   "cell_type": "code",
   "execution_count": 23,
   "id": "b51fb3af-72d0-417f-a222-90eca6f3a6fc",
   "metadata": {},
   "outputs": [],
   "source": [
    "#单元格 6：构建 & 测试 BM25 检索器"
   ]
  },
  {
   "cell_type": "code",
   "execution_count": 25,
   "id": "2b71a422-304e-4f18-8def-4c93d4b6ad44",
   "metadata": {},
   "outputs": [
    {
     "name": "stdout",
     "output_type": "stream",
     "text": [
      "chunk_264 → something had attracted the monsters. Paimon is worried, but Dainsleif states that the hut is the main investigation and thus the Traveler and Paimon set up a campfire for the night. Paimon asks about\n",
      "chunk_241 → The Traveler regains consciousness atGandharva Ville, with Paimon waking them up.\n",
      "chunk_273 → taking care ofLynette. He then introduces himself asLyneyand Paimon explains that Lynette was talking to them. This surprises Lyney, who explains that she usually keeps to herself. Paimon asks about L\n"
     ]
    },
    {
     "name": "stderr",
     "output_type": "stream",
     "text": [
      "C:\\Users\\wayne\\AppData\\Local\\Temp\\ipykernel_29432\\3076604341.py:6: LangChainDeprecationWarning: The method `BaseRetriever.get_relevant_documents` was deprecated in langchain-core 0.1.46 and will be removed in 1.0. Use :meth:`~invoke` instead.\n",
      "  for doc in bm25.get_relevant_documents(\"Paimon 是谁\"):\n"
     ]
    }
   ],
   "source": [
    "# 把所有段落拆成更小的 chunk（可选）\n",
    "chunks = split_text_into_chunks(\"\\n\\n\".join(d.page_content for d in docs))\n",
    "bm25  = build_bm25_retriever(chunks, k=3)\n",
    "\n",
    "# 测试关键词检索\n",
    "for doc in bm25.get_relevant_documents(\"Paimon 是谁\"):\n",
    "    print(doc.metadata[\"source\"], \"→\", doc.page_content[:200])\n"
   ]
  },
  {
   "cell_type": "code",
   "execution_count": 37,
   "id": "23e3f3bc-19c9-4d20-9e47-79b08a36ddd0",
   "metadata": {},
   "outputs": [],
   "source": [
    "# 单元格 7：运行 Hybrid QA Pipeline"
   ]
  },
  {
   "cell_type": "code",
   "execution_count": 39,
   "id": "a8862544-57cc-434f-ba9a-4566877556a8",
   "metadata": {},
   "outputs": [
    {
     "ename": "NameError",
     "evalue": "name 'client' is not defined",
     "output_type": "error",
     "traceback": [
      "\u001b[1;31m---------------------------------------------------------------------------\u001b[0m",
      "\u001b[1;31mNameError\u001b[0m                                 Traceback (most recent call last)",
      "Cell \u001b[1;32mIn[39], line 10\u001b[0m\n\u001b[0;32m      8\u001b[0m subs   \u001b[38;5;241m=\u001b[39m decompose_query(rq)\n\u001b[0;32m      9\u001b[0m expanded \u001b[38;5;241m=\u001b[39m \u001b[38;5;28msum\u001b[39m((expand_query_with_llm(s) \u001b[38;5;28;01mfor\u001b[39;00m s \u001b[38;5;129;01min\u001b[39;00m subs), [])\n\u001b[1;32m---> 10\u001b[0m top_qs   \u001b[38;5;241m=\u001b[39m pick_diverse_queries(expanded, embedding_model\u001b[38;5;241m=\u001b[39mGeminiEmbeddings(), top_k\u001b[38;5;241m=\u001b[39m\u001b[38;5;241m3\u001b[39m)\n\u001b[0;32m     12\u001b[0m \u001b[38;5;66;03m# 6. 多源检索\u001b[39;00m\n\u001b[0;32m     13\u001b[0m kg_sects   \u001b[38;5;241m=\u001b[39m []\n",
      "File \u001b[1;32m~\\Genshin_QA_AI_Chatbot\\genshin-kg-rag-bm25-qa\\scripts\\qa_pipeline.py:110\u001b[0m, in \u001b[0;36mpick_diverse_queries\u001b[1;34m(queries, embedding_model, top_k)\u001b[0m\n\u001b[0;32m    108\u001b[0m \u001b[38;5;28;01mdef\u001b[39;00m \u001b[38;5;21mpick_diverse_queries\u001b[39m(queries: List[\u001b[38;5;28mstr\u001b[39m], embedding_model, top_k: \u001b[38;5;28mint\u001b[39m \u001b[38;5;241m=\u001b[39m \u001b[38;5;241m5\u001b[39m) \u001b[38;5;241m-\u001b[39m\u001b[38;5;241m>\u001b[39m List[\u001b[38;5;28mstr\u001b[39m]:\n\u001b[0;32m    109\u001b[0m     \u001b[38;5;66;03m# Generate embeddings for each query\u001b[39;00m\n\u001b[1;32m--> 110\u001b[0m     embeddings \u001b[38;5;241m=\u001b[39m embedding_model\u001b[38;5;241m.\u001b[39membed_documents(queries)\n\u001b[0;32m    112\u001b[0m     \u001b[38;5;66;03m# Calculate cosine similarity between all pairs\u001b[39;00m\n\u001b[0;32m    113\u001b[0m     sim_matrix \u001b[38;5;241m=\u001b[39m cosine_similarity(embeddings)\n",
      "File \u001b[1;32m~\\Genshin_QA_AI_Chatbot\\genshin-kg-rag-bm25-qa\\scripts\\rag_retriever.py:21\u001b[0m, in \u001b[0;36mGeminiEmbeddings.embed_documents\u001b[1;34m(self, texts)\u001b[0m\n\u001b[0;32m     19\u001b[0m \u001b[38;5;28;01mfor\u001b[39;00m i \u001b[38;5;129;01min\u001b[39;00m \u001b[38;5;28mrange\u001b[39m(\u001b[38;5;241m0\u001b[39m, \u001b[38;5;28mlen\u001b[39m(texts), batch_size):\n\u001b[0;32m     20\u001b[0m     batch \u001b[38;5;241m=\u001b[39m texts[i : i \u001b[38;5;241m+\u001b[39m batch_size]\n\u001b[1;32m---> 21\u001b[0m     resp \u001b[38;5;241m=\u001b[39m client\u001b[38;5;241m.\u001b[39mmodels\u001b[38;5;241m.\u001b[39membed_content(\n\u001b[0;32m     22\u001b[0m         model\u001b[38;5;241m=\u001b[39mEMBED_MODEL,\n\u001b[0;32m     23\u001b[0m         contents\u001b[38;5;241m=\u001b[39mbatch,\n\u001b[0;32m     24\u001b[0m         config\u001b[38;5;241m=\u001b[39mtypes\u001b[38;5;241m.\u001b[39mEmbedContentConfig(\n\u001b[0;32m     25\u001b[0m             task_type\u001b[38;5;241m=\u001b[39m\u001b[38;5;124m\"\u001b[39m\u001b[38;5;124mRETRIEVAL_DOCUMENT\u001b[39m\u001b[38;5;124m\"\u001b[39m,\n\u001b[0;32m     26\u001b[0m             title\u001b[38;5;241m=\u001b[39m\u001b[38;5;124m\"\u001b[39m\u001b[38;5;124m; \u001b[39m\u001b[38;5;124m\"\u001b[39m\u001b[38;5;241m.\u001b[39mjoin([t[:\u001b[38;5;241m50\u001b[39m] \u001b[38;5;28;01mfor\u001b[39;00m t \u001b[38;5;129;01min\u001b[39;00m batch])\n\u001b[0;32m     27\u001b[0m         )\n\u001b[0;32m     28\u001b[0m     )\n\u001b[0;32m     29\u001b[0m     all_embs\u001b[38;5;241m.\u001b[39mextend(e\u001b[38;5;241m.\u001b[39mvalues \u001b[38;5;28;01mfor\u001b[39;00m e \u001b[38;5;129;01min\u001b[39;00m resp\u001b[38;5;241m.\u001b[39membeddings)\n\u001b[0;32m     30\u001b[0m \u001b[38;5;28;01mreturn\u001b[39;00m all_embs\n",
      "\u001b[1;31mNameError\u001b[0m: name 'client' is not defined"
     ]
    }
   ],
   "source": [
    "# 示例：回答用户问题\n",
    "query     = \"what's paimon's deal with zhongli?\"\n",
    "entity_id = \"Paimon\"\n",
    "\n",
    "# 1. 重写、2. 意图分类、3. 拆解、4. 扩展、5. 选多样化\n",
    "rq  = rewrite_query_for_search(query)\n",
    "intent = classify_intent_llm(rq)\n",
    "subs   = decompose_query(rq)\n",
    "expanded = sum((expand_query_with_llm(s) for s in subs), [])\n",
    "top_qs   = pick_diverse_queries(expanded, embedding_model=GeminiEmbeddings(), top_k=3)\n",
    "\n",
    "# 6. 多源检索\n",
    "kg_sects   = []\n",
    "for q in top_qs:\n",
    "    out = query_graph(G, entity_id)  # 或者直接用你的 GraphCypherQAChain\n",
    "    kg_sects.append(str(out))\n",
    "rag_sects  = \"\\n\".join(d.page_content for q in expanded \n",
    "                      for d in rag_similarity_search(vectorstore, q, k=2))\n",
    "bm25_sects = \"\\n\".join(d.page_content for q in expanded \n",
    "                      for d in bm25.get_relevant_documents(q))\n",
    "\n",
    "# 7. 最终答案\n",
    "answer = generate_answer_from_sections(\n",
    "    question=query,\n",
    "    kg_section=\"\\n\".join(kg_sects),\n",
    "    rag_section=rag_sects,\n",
    "    bm25_section=bm25_sects\n",
    ")\n",
    "print(answer)\n"
   ]
  },
  {
   "cell_type": "code",
   "execution_count": null,
   "id": "08f1ba71-fa5c-4701-87a0-05f7065b2fd5",
   "metadata": {},
   "outputs": [],
   "source": []
  },
  {
   "cell_type": "code",
   "execution_count": 11,
   "id": "a591ad88-695d-49be-8536-90c37127d3e2",
   "metadata": {},
   "outputs": [
    {
     "ename": "AttributeError",
     "evalue": "module 'google.genai.models' has no attribute 'generate_content'",
     "output_type": "error",
     "traceback": [
      "\u001b[1;31m---------------------------------------------------------------------------\u001b[0m",
      "\u001b[1;31mAttributeError\u001b[0m                            Traceback (most recent call last)",
      "Cell \u001b[1;32mIn[11], line 37\u001b[0m\n\u001b[0;32m     35\u001b[0m \u001b[38;5;28;01mfrom\u001b[39;00m \u001b[38;5;21;01mgoogle\u001b[39;00m \u001b[38;5;28;01mimport\u001b[39;00m genai \u001b[38;5;28;01mas\u001b[39;00m client  \u001b[38;5;66;03m# or client = genai.Client(api_key=API_KEY)\u001b[39;00m\n\u001b[0;32m     36\u001b[0m full_text \u001b[38;5;241m=\u001b[39m raw_text  \u001b[38;5;66;03m# or fetch_multiple_wiki_texts(urls)\u001b[39;00m\n\u001b[1;32m---> 37\u001b[0m triples \u001b[38;5;241m=\u001b[39m generate_triples_batched(full_text, client, model\u001b[38;5;241m=\u001b[39m\u001b[38;5;124m\"\u001b[39m\u001b[38;5;124mmodels/gemini-1.5-pro\u001b[39m\u001b[38;5;124m\"\u001b[39m)\n\u001b[0;32m     39\u001b[0m \u001b[38;5;66;03m# 4. 建圖與匯出\u001b[39;00m\n\u001b[0;32m     40\u001b[0m G \u001b[38;5;241m=\u001b[39m build_graph(triples)\n",
      "File \u001b[1;32m~\\Genshin_QA_AI_Chatbot\\genshin-kg-rag-bm25-qa\\src\\triple_extraction.py:19\u001b[0m, in \u001b[0;36mgenerate_triples_batched\u001b[1;34m(text, client, model, chunk_size)\u001b[0m\n\u001b[0;32m     14\u001b[0m \u001b[38;5;28;01mfor\u001b[39;00m idx, chunk \u001b[38;5;129;01min\u001b[39;00m \u001b[38;5;28menumerate\u001b[39m(chunks, \u001b[38;5;241m1\u001b[39m):\n\u001b[0;32m     15\u001b[0m     prompt \u001b[38;5;241m=\u001b[39m [\n\u001b[0;32m     16\u001b[0m         {\u001b[38;5;124m\"\u001b[39m\u001b[38;5;124mtext\u001b[39m\u001b[38;5;124m\"\u001b[39m: \u001b[38;5;124m\"\u001b[39m\u001b[38;5;124m...（請參照之前的 prompt 設定）...\u001b[39m\u001b[38;5;124m\"\u001b[39m},\n\u001b[0;32m     17\u001b[0m         {\u001b[38;5;124m\"\u001b[39m\u001b[38;5;124mtext\u001b[39m\u001b[38;5;124m\"\u001b[39m: \u001b[38;5;124m\"\u001b[39m\u001b[38;5;124mText:\u001b[39m\u001b[38;5;130;01m\\n\u001b[39;00m\u001b[38;5;124m\"\u001b[39m \u001b[38;5;241m+\u001b[39m chunk}\n\u001b[0;32m     18\u001b[0m     ]\n\u001b[1;32m---> 19\u001b[0m     resp \u001b[38;5;241m=\u001b[39m client\u001b[38;5;241m.\u001b[39mmodels\u001b[38;5;241m.\u001b[39mgenerate_content(\n\u001b[0;32m     20\u001b[0m         model\u001b[38;5;241m=\u001b[39mmodel,\n\u001b[0;32m     21\u001b[0m         contents\u001b[38;5;241m=\u001b[39mprompt,\n\u001b[0;32m     22\u001b[0m         config\u001b[38;5;241m=\u001b[39mgenai\u001b[38;5;241m.\u001b[39mtypes\u001b[38;5;241m.\u001b[39mGenerateContentConfig(\n\u001b[0;32m     23\u001b[0m             max_output_tokens\u001b[38;5;241m=\u001b[39m\u001b[38;5;241m1024\u001b[39m,\n\u001b[0;32m     24\u001b[0m             temperature\u001b[38;5;241m=\u001b[39m\u001b[38;5;241m0.2\u001b[39m,\n\u001b[0;32m     25\u001b[0m             response_mime_type\u001b[38;5;241m=\u001b[39m\u001b[38;5;124m\"\u001b[39m\u001b[38;5;124mapplication/json\u001b[39m\u001b[38;5;124m\"\u001b[39m,\n\u001b[0;32m     26\u001b[0m             response_schema\u001b[38;5;241m=\u001b[39m\u001b[38;5;28mlist\u001b[39m[Triple],\n\u001b[0;32m     27\u001b[0m         ),\n\u001b[0;32m     28\u001b[0m     )\n\u001b[0;32m     29\u001b[0m     triples \u001b[38;5;241m=\u001b[39m resp\u001b[38;5;241m.\u001b[39mparsed \u001b[38;5;129;01mor\u001b[39;00m []\n\u001b[0;32m     30\u001b[0m     all_triples\u001b[38;5;241m.\u001b[39mextend(triples)\n",
      "\u001b[1;31mAttributeError\u001b[0m: module 'google.genai.models' has no attribute 'generate_content'"
     ]
    }
   ],
   "source": [
    "import sys\n",
    "sys.path.append(\"src\")  # 加入 scripts 資料夾到 Python 路徑\n",
    "\n",
    "# ────────────────────────────────────────────────────────────\n",
    "# 0. 環境設定\n",
    "from dotenv import load_dotenv\n",
    "import os, warnings\n",
    "warnings.filterwarnings(\"ignore\")\n",
    "load_dotenv()\n",
    "\n",
    "API_KEY      = os.getenv(\"GOOGLE_API_KEY\")\n",
    "NEO4J_URI    = os.getenv(\"NEO4J_URI\")\n",
    "NEO4J_USER   = os.getenv(\"NEO4J_USER\")\n",
    "NEO4J_PASS   = os.getenv(\"NEO4J_PASSWORD\")\n",
    "assert API_KEY and NEO4J_URI\n",
    "\n",
    "# 1. 匯入模組\n",
    "from data_extraction    import fetch_wiki_text, fetch_multiple_wiki_texts, fetch_act_urls\n",
    "from triple_extraction  import generate_triples_batched, Triple\n",
    "from kg_builder         import build_graph, export_graphml, triples_to_csv\n",
    "from rag_builder        import build_rag_vectorstore\n",
    "from bm25_builder       import build_bm25_retriever\n",
    "from qa_pipeline        import init_gemini_llm, build_kg_qa_chain\n",
    "from utils              import rewrite_query_for_search, decompose_query, expand_query_with_llm, pick_diverse_queries\n",
    "\n",
    "import google.generativeai as genai\n",
    "# 初始化 Gemini client\n",
    "genai.configure(api_key=API_KEY)\n",
    "\n",
    "# 2. 資料擷取\n",
    "urls = fetch_act_urls()\n",
    "raw_text = \"\\n\\n\".join(fetch_wiki_text(u) for u in urls)\n",
    "\n",
    "# 3. 三元組擷取\n",
    "from google import genai as client  # or client = genai.Client(api_key=API_KEY)\n",
    "full_text = raw_text  # or fetch_multiple_wiki_texts(urls)\n",
    "triples = generate_triples_batched(full_text, client, model=\"models/gemini-1.5-pro\")\n",
    "\n",
    "# 4. 建圖與匯出\n",
    "G = build_graph(triples)\n",
    "export_graphml(G, \"genshin_story_kg.graphml\")\n",
    "triples_to_csv(triples, \"all_nodes.csv\", \"all_edges.csv\")\n",
    "\n",
    "# 5. 建立 RAG 與 BM25\n",
    "vectorstore = build_rag_vectorstore(urls, client, \"./genshin_chroma\")\n",
    "bm25 = build_bm25_retriever(raw_text)\n",
    "\n",
    "# 6. 問答 Pipeline\n",
    "GeminiLLM = init_gemini_llm(API_KEY)\n",
    "qa_chain = build_kg_qa_chain(NEO4J_URI, NEO4J_USER, NEO4J_PASS, GeminiLLM, top_k=5)\n",
    "\n",
    "# 7. 執行範例查詢\n",
    "query = \"what's paimon's deal with zhongli?\"\n",
    "q0 = rewrite_query_for_search(query)\n",
    "subs = decompose_query(q0)\n",
    "exps = sum([expand_query_with_llm(s) for s in subs], [])\n",
    "topq = pick_diverse_queries(exps, vectorstore.embedding, top_k=3)\n",
    "\n",
    "# KG 回答\n",
    "kg_answers = [ qa_chain.invoke({\"query\": q, \"id\":\"Paimon\"}) for q in topq ]\n",
    "\n",
    "# RAG & BM25 檢索\n",
    "rag_docs = sum([ vectorstore.similarity_search(q, k=3) for q in exps ], [])\n",
    "bm25_docs = sum([ bm25.get_relevant_documents(q) for q in exps ], [])\n",
    "\n",
    "# 8. 結果整合、生成最終回答…（可再呼叫 utils.generate_answer_from_sections）\n"
   ]
  },
  {
   "cell_type": "code",
   "execution_count": null,
   "id": "51929929-48d1-49a0-accd-87b06576bb5a",
   "metadata": {},
   "outputs": [],
   "source": []
  }
 ],
 "metadata": {
  "kernelspec": {
   "display_name": "Python [conda env:base] *",
   "language": "python",
   "name": "conda-base-py"
  },
  "language_info": {
   "codemirror_mode": {
    "name": "ipython",
    "version": 3
   },
   "file_extension": ".py",
   "mimetype": "text/x-python",
   "name": "python",
   "nbconvert_exporter": "python",
   "pygments_lexer": "ipython3",
   "version": "3.12.3"
  }
 },
 "nbformat": 4,
 "nbformat_minor": 5
}
